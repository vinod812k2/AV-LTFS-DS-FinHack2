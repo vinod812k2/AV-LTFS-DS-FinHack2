{
  "nbformat": 4,
  "nbformat_minor": 0,
  "metadata": {
    "colab": {
      "name": "LTFS_RJ.ipynb",
      "provenance": []
    },
    "kernelspec": {
      "name": "python3",
      "display_name": "Python 3"
    }
  },
  "cells": [
    {
      "cell_type": "code",
      "metadata": {
        "id": "vZTGkBaSMTrt",
        "colab_type": "code",
        "colab": {}
      },
      "source": [
        "import numpy as np # linear algebra\n",
        "import pandas as pd # data processing, CSV file I/O (e.g. pd.read_csv)\n",
        "import pandas\n",
        "import matplotlib.pyplot as plt\n",
        "%matplotlib inline\n",
        "import os\n"
      ],
      "execution_count": 0,
      "outputs": []
    },
    {
      "cell_type": "code",
      "metadata": {
        "id": "HF9EaEewMxSQ",
        "colab_type": "code",
        "colab": {}
      },
      "source": [
        "train = pd.read_csv(\"train.csv\",parse_dates=['application_date'])\n",
        "test  = pd.read_csv(\"test.csv\",parse_dates=['application_date'])"
      ],
      "execution_count": 0,
      "outputs": []
    },
    {
      "cell_type": "code",
      "metadata": {
        "id": "-b12TtHQNEl3",
        "colab_type": "code",
        "colab": {}
      },
      "source": [
        "import numpy as np\n",
        "\n",
        "def mean_absolute_percentage_error(y_true, y_pred): \n",
        "    y_true, y_pred = np.array(y_true), np.array(y_pred)\n",
        "    return np.mean(np.abs((y_true - y_pred) / y_true)) * 100"
      ],
      "execution_count": 0,
      "outputs": []
    },
    {
      "cell_type": "code",
      "metadata": {
        "id": "-8BNh32mNErA",
        "colab_type": "code",
        "colab": {
          "base_uri": "https://localhost:8080/",
          "height": 204
        },
        "outputId": "1655991b-cf4f-4e9f-c44b-a5c7e873a142"
      },
      "source": [
        "train.head()"
      ],
      "execution_count": 23,
      "outputs": [
        {
          "output_type": "execute_result",
          "data": {
            "text/html": [
              "<div>\n",
              "<style scoped>\n",
              "    .dataframe tbody tr th:only-of-type {\n",
              "        vertical-align: middle;\n",
              "    }\n",
              "\n",
              "    .dataframe tbody tr th {\n",
              "        vertical-align: top;\n",
              "    }\n",
              "\n",
              "    .dataframe thead th {\n",
              "        text-align: right;\n",
              "    }\n",
              "</style>\n",
              "<table border=\"1\" class=\"dataframe\">\n",
              "  <thead>\n",
              "    <tr style=\"text-align: right;\">\n",
              "      <th></th>\n",
              "      <th>application_date</th>\n",
              "      <th>segment</th>\n",
              "      <th>branch_id</th>\n",
              "      <th>state</th>\n",
              "      <th>zone</th>\n",
              "      <th>case_count</th>\n",
              "    </tr>\n",
              "  </thead>\n",
              "  <tbody>\n",
              "    <tr>\n",
              "      <th>0</th>\n",
              "      <td>2017-04-01</td>\n",
              "      <td>1</td>\n",
              "      <td>1.0</td>\n",
              "      <td>WEST BENGAL</td>\n",
              "      <td>EAST</td>\n",
              "      <td>40.0</td>\n",
              "    </tr>\n",
              "    <tr>\n",
              "      <th>1</th>\n",
              "      <td>2017-04-03</td>\n",
              "      <td>1</td>\n",
              "      <td>1.0</td>\n",
              "      <td>WEST BENGAL</td>\n",
              "      <td>EAST</td>\n",
              "      <td>5.0</td>\n",
              "    </tr>\n",
              "    <tr>\n",
              "      <th>2</th>\n",
              "      <td>2017-04-04</td>\n",
              "      <td>1</td>\n",
              "      <td>1.0</td>\n",
              "      <td>WEST BENGAL</td>\n",
              "      <td>EAST</td>\n",
              "      <td>4.0</td>\n",
              "    </tr>\n",
              "    <tr>\n",
              "      <th>3</th>\n",
              "      <td>2017-04-05</td>\n",
              "      <td>1</td>\n",
              "      <td>1.0</td>\n",
              "      <td>WEST BENGAL</td>\n",
              "      <td>EAST</td>\n",
              "      <td>113.0</td>\n",
              "    </tr>\n",
              "    <tr>\n",
              "      <th>4</th>\n",
              "      <td>2017-04-07</td>\n",
              "      <td>1</td>\n",
              "      <td>1.0</td>\n",
              "      <td>WEST BENGAL</td>\n",
              "      <td>EAST</td>\n",
              "      <td>76.0</td>\n",
              "    </tr>\n",
              "  </tbody>\n",
              "</table>\n",
              "</div>"
            ],
            "text/plain": [
              "  application_date  segment  branch_id        state  zone  case_count\n",
              "0       2017-04-01        1        1.0  WEST BENGAL  EAST        40.0\n",
              "1       2017-04-03        1        1.0  WEST BENGAL  EAST         5.0\n",
              "2       2017-04-04        1        1.0  WEST BENGAL  EAST         4.0\n",
              "3       2017-04-05        1        1.0  WEST BENGAL  EAST       113.0\n",
              "4       2017-04-07        1        1.0  WEST BENGAL  EAST        76.0"
            ]
          },
          "metadata": {
            "tags": []
          },
          "execution_count": 23
        }
      ]
    },
    {
      "cell_type": "code",
      "metadata": {
        "id": "aD65XwCFNE2M",
        "colab_type": "code",
        "colab": {}
      },
      "source": [
        "train['application_date']=pd.to_datetime(train['application_date'],format='%Y-%m-%d')\n",
        "test['application_date']=pd.to_datetime(test['application_date'],format='%Y-%m-%d')\n"
      ],
      "execution_count": 0,
      "outputs": []
    },
    {
      "cell_type": "code",
      "metadata": {
        "id": "3DUY5HRINEo5",
        "colab_type": "code",
        "colab": {}
      },
      "source": [
        "train_s1=train[train['segment']==1].groupby(['application_date']).sum().reset_index()[['application_date','case_count']].sort_values('application_date')\n",
        "train_s2=train[train['segment']==2].groupby(['application_date']).sum().reset_index()[['application_date','case_count']].sort_values('application_date')\n",
        "test_s1=test[test['segment']==1][['application_date']].sort_values('application_date')\n",
        "test_s2=test[test['segment']==2][['application_date']].sort_values('application_date')"
      ],
      "execution_count": 0,
      "outputs": []
    },
    {
      "cell_type": "code",
      "metadata": {
        "id": "yfO2zeAtNEis",
        "colab_type": "code",
        "colab": {
          "base_uri": "https://localhost:8080/",
          "height": 1000
        },
        "outputId": "0c8d9a89-6f1d-4006-f3eb-5f1d11e1058d"
      },
      "source": [
        "hol=['2017-02-24','2017-03-13','2017-03-28','2017-04-05','2017-04-09','2017-04-14','2017-05-10','2017-06-25'\n",
        ",'2017-06-26','2017-08-07','2017-09-30','2017-10-02','2017-10-19','2018-02-24','2018-03-13','2018-03-28','2018-04-05','2018-04-09','2018-04-14','2018-05-10','2018-06-25',\n",
        "'2018-06-26','2018-08-07','2018-09-30','2018-10-02','2018-10-19','2019-02-24','2019-03-13','2019-03-28','2019-04-05','2019-04-09','2019-04-14','2019-05-10','2019-06-25',\n",
        "'2019-06-26','2019-08-07','2019-09-30','2019-10-02','2019-10-19']\n",
        "\n",
        "import holidays\n",
        "ind_holidays = holidays.IND(years=[2017,2018,2019])\n",
        "\n",
        "from datetime import date\n",
        "# hol=[]\n",
        "for date, name in sorted(ind_holidays.items()):\n",
        "    print(str(date),name)\n",
        "    hol.append(str(date))\n",
        "hol\n",
        "\n",
        "train_s1['hol']=train_s1.application_date.isin(hol)\n",
        "test_s1['hol']=test_s1.application_date.isin(hol)\n",
        "hol"
      ],
      "execution_count": 26,
      "outputs": [
        {
          "output_type": "stream",
          "text": [
            "2017-01-14 Makar Sankranti / Pongal\n",
            "2017-01-26 Republic Day\n",
            "2017-05-01 Labour Day\n",
            "2017-08-15 Independence Day\n",
            "2017-10-02 Gandhi Jayanti\n",
            "2017-12-25 Christmas\n",
            "2018-01-14 Makar Sankranti / Pongal\n",
            "2018-01-26 Republic Day\n",
            "2018-05-01 Labour Day\n",
            "2018-08-15 Independence Day\n",
            "2018-10-02 Gandhi Jayanti\n",
            "2018-12-25 Christmas\n",
            "2019-01-14 Makar Sankranti / Pongal\n",
            "2019-01-26 Republic Day\n",
            "2019-05-01 Labour Day\n",
            "2019-08-15 Independence Day\n",
            "2019-10-02 Gandhi Jayanti\n",
            "2019-12-25 Christmas\n"
          ],
          "name": "stdout"
        },
        {
          "output_type": "execute_result",
          "data": {
            "text/plain": [
              "['2017-02-24',\n",
              " '2017-03-13',\n",
              " '2017-03-28',\n",
              " '2017-04-05',\n",
              " '2017-04-09',\n",
              " '2017-04-14',\n",
              " '2017-05-10',\n",
              " '2017-06-25',\n",
              " '2017-06-26',\n",
              " '2017-08-07',\n",
              " '2017-09-30',\n",
              " '2017-10-02',\n",
              " '2017-10-19',\n",
              " '2018-02-24',\n",
              " '2018-03-13',\n",
              " '2018-03-28',\n",
              " '2018-04-05',\n",
              " '2018-04-09',\n",
              " '2018-04-14',\n",
              " '2018-05-10',\n",
              " '2018-06-25',\n",
              " '2018-06-26',\n",
              " '2018-08-07',\n",
              " '2018-09-30',\n",
              " '2018-10-02',\n",
              " '2018-10-19',\n",
              " '2019-02-24',\n",
              " '2019-03-13',\n",
              " '2019-03-28',\n",
              " '2019-04-05',\n",
              " '2019-04-09',\n",
              " '2019-04-14',\n",
              " '2019-05-10',\n",
              " '2019-06-25',\n",
              " '2019-06-26',\n",
              " '2019-08-07',\n",
              " '2019-09-30',\n",
              " '2019-10-02',\n",
              " '2019-10-19',\n",
              " '2017-01-14',\n",
              " '2017-01-26',\n",
              " '2017-05-01',\n",
              " '2017-08-15',\n",
              " '2017-10-02',\n",
              " '2017-12-25',\n",
              " '2018-01-14',\n",
              " '2018-01-26',\n",
              " '2018-05-01',\n",
              " '2018-08-15',\n",
              " '2018-10-02',\n",
              " '2018-12-25',\n",
              " '2019-01-14',\n",
              " '2019-01-26',\n",
              " '2019-05-01',\n",
              " '2019-08-15',\n",
              " '2019-10-02',\n",
              " '2019-12-25']"
            ]
          },
          "metadata": {
            "tags": []
          },
          "execution_count": 26
        }
      ]
    },
    {
      "cell_type": "code",
      "metadata": {
        "id": "zhjv5EKANbjS",
        "colab_type": "code",
        "colab": {}
      },
      "source": [
        "def create_features(df, label=None,seg=None):\n",
        "    \"\"\"\n",
        "    Creates time series features from datetime index.\n",
        "    \"\"\"\n",
        "    df = df.copy()\n",
        "    df['date'] = df.application_date\n",
        "    df['dayofweek'] = df['date'].dt.dayofweek\n",
        "    df['quarter'] = df['date'].dt.quarter\n",
        "    df['month'] = df['date'].dt.month\n",
        "    df['year'] = df['date'].dt.year\n",
        "    df['dayofyear'] = df['date'].dt.dayofyear\n",
        "    df['dayofmonth'] = df['date'].dt.day\n",
        "    df['week'] = df['date'].dt.week\n",
        "    df['is_month_start']=df['date'].dt.is_month_start\n",
        "    df['is_month_end']=df['date'].dt.is_month_end\n",
        "    df['is_quarter_start']=df['date'].dt.is_quarter_start\n",
        "    df['is_quarter_end']=df['date'].dt.is_quarter_end\n",
        "    df['is_year_start']=df['date'].dt.is_year_start\n",
        "    df['is_year_end']=df['date'].dt.is_year_end\n",
        "    df['Semester'] = np.where(df['quarter'].isin([1,2]),1,2)\n",
        "    \n",
        "    X = df.drop(['date','application_date'],axis=1)\n",
        "    if label:\n",
        "        y = df[label]\n",
        "        return X\n",
        "    return X\n",
        "\n",
        "Xtrain_s1 = create_features(train_s1, label='case_count',seg='1')\n",
        "Xtest_s1= create_features(test_s1)"
      ],
      "execution_count": 0,
      "outputs": []
    },
    {
      "cell_type": "code",
      "metadata": {
        "id": "W72ahePfNdui",
        "colab_type": "code",
        "colab": {
          "base_uri": "https://localhost:8080/",
          "height": 224
        },
        "outputId": "284cb00c-b938-47fb-febd-8d7c78891267"
      },
      "source": [
        "Xtrain_s1.head()"
      ],
      "execution_count": 28,
      "outputs": [
        {
          "output_type": "execute_result",
          "data": {
            "text/html": [
              "<div>\n",
              "<style scoped>\n",
              "    .dataframe tbody tr th:only-of-type {\n",
              "        vertical-align: middle;\n",
              "    }\n",
              "\n",
              "    .dataframe tbody tr th {\n",
              "        vertical-align: top;\n",
              "    }\n",
              "\n",
              "    .dataframe thead th {\n",
              "        text-align: right;\n",
              "    }\n",
              "</style>\n",
              "<table border=\"1\" class=\"dataframe\">\n",
              "  <thead>\n",
              "    <tr style=\"text-align: right;\">\n",
              "      <th></th>\n",
              "      <th>case_count</th>\n",
              "      <th>hol</th>\n",
              "      <th>dayofweek</th>\n",
              "      <th>quarter</th>\n",
              "      <th>month</th>\n",
              "      <th>year</th>\n",
              "      <th>dayofyear</th>\n",
              "      <th>dayofmonth</th>\n",
              "      <th>week</th>\n",
              "      <th>is_month_start</th>\n",
              "      <th>is_month_end</th>\n",
              "      <th>is_quarter_start</th>\n",
              "      <th>is_quarter_end</th>\n",
              "      <th>is_year_start</th>\n",
              "      <th>is_year_end</th>\n",
              "      <th>Semester</th>\n",
              "    </tr>\n",
              "  </thead>\n",
              "  <tbody>\n",
              "    <tr>\n",
              "      <th>0</th>\n",
              "      <td>299.0</td>\n",
              "      <td>False</td>\n",
              "      <td>5</td>\n",
              "      <td>2</td>\n",
              "      <td>4</td>\n",
              "      <td>2017</td>\n",
              "      <td>91</td>\n",
              "      <td>1</td>\n",
              "      <td>13</td>\n",
              "      <td>True</td>\n",
              "      <td>False</td>\n",
              "      <td>True</td>\n",
              "      <td>False</td>\n",
              "      <td>False</td>\n",
              "      <td>False</td>\n",
              "      <td>1</td>\n",
              "    </tr>\n",
              "    <tr>\n",
              "      <th>1</th>\n",
              "      <td>42.0</td>\n",
              "      <td>False</td>\n",
              "      <td>0</td>\n",
              "      <td>2</td>\n",
              "      <td>4</td>\n",
              "      <td>2017</td>\n",
              "      <td>93</td>\n",
              "      <td>3</td>\n",
              "      <td>14</td>\n",
              "      <td>False</td>\n",
              "      <td>False</td>\n",
              "      <td>False</td>\n",
              "      <td>False</td>\n",
              "      <td>False</td>\n",
              "      <td>False</td>\n",
              "      <td>1</td>\n",
              "    </tr>\n",
              "    <tr>\n",
              "      <th>2</th>\n",
              "      <td>23.0</td>\n",
              "      <td>False</td>\n",
              "      <td>1</td>\n",
              "      <td>2</td>\n",
              "      <td>4</td>\n",
              "      <td>2017</td>\n",
              "      <td>94</td>\n",
              "      <td>4</td>\n",
              "      <td>14</td>\n",
              "      <td>False</td>\n",
              "      <td>False</td>\n",
              "      <td>False</td>\n",
              "      <td>False</td>\n",
              "      <td>False</td>\n",
              "      <td>False</td>\n",
              "      <td>1</td>\n",
              "    </tr>\n",
              "    <tr>\n",
              "      <th>3</th>\n",
              "      <td>1530.0</td>\n",
              "      <td>True</td>\n",
              "      <td>2</td>\n",
              "      <td>2</td>\n",
              "      <td>4</td>\n",
              "      <td>2017</td>\n",
              "      <td>95</td>\n",
              "      <td>5</td>\n",
              "      <td>14</td>\n",
              "      <td>False</td>\n",
              "      <td>False</td>\n",
              "      <td>False</td>\n",
              "      <td>False</td>\n",
              "      <td>False</td>\n",
              "      <td>False</td>\n",
              "      <td>1</td>\n",
              "    </tr>\n",
              "    <tr>\n",
              "      <th>4</th>\n",
              "      <td>1341.0</td>\n",
              "      <td>False</td>\n",
              "      <td>4</td>\n",
              "      <td>2</td>\n",
              "      <td>4</td>\n",
              "      <td>2017</td>\n",
              "      <td>97</td>\n",
              "      <td>7</td>\n",
              "      <td>14</td>\n",
              "      <td>False</td>\n",
              "      <td>False</td>\n",
              "      <td>False</td>\n",
              "      <td>False</td>\n",
              "      <td>False</td>\n",
              "      <td>False</td>\n",
              "      <td>1</td>\n",
              "    </tr>\n",
              "  </tbody>\n",
              "</table>\n",
              "</div>"
            ],
            "text/plain": [
              "   case_count    hol  dayofweek  ...  is_year_start  is_year_end  Semester\n",
              "0       299.0  False          5  ...          False        False         1\n",
              "1        42.0  False          0  ...          False        False         1\n",
              "2        23.0  False          1  ...          False        False         1\n",
              "3      1530.0   True          2  ...          False        False         1\n",
              "4      1341.0  False          4  ...          False        False         1\n",
              "\n",
              "[5 rows x 16 columns]"
            ]
          },
          "metadata": {
            "tags": []
          },
          "execution_count": 28
        }
      ]
    },
    {
      "cell_type": "code",
      "metadata": {
        "id": "GowGE7MlNdxl",
        "colab_type": "code",
        "colab": {
          "base_uri": "https://localhost:8080/",
          "height": 68
        },
        "outputId": "0bb6b71e-000f-4451-913a-c02838011c77"
      },
      "source": [
        "Xtrain_s1['Semester'].value_counts()"
      ],
      "execution_count": 29,
      "outputs": [
        {
          "output_type": "execute_result",
          "data": {
            "text/plain": [
              "1    442\n",
              "2    364\n",
              "Name: Semester, dtype: int64"
            ]
          },
          "metadata": {
            "tags": []
          },
          "execution_count": 29
        }
      ]
    },
    {
      "cell_type": "code",
      "metadata": {
        "id": "stDyMKYANd0V",
        "colab_type": "code",
        "colab": {
          "base_uri": "https://localhost:8080/",
          "height": 170
        },
        "outputId": "eef193fd-570f-4dc9-a2af-061f09005efc"
      },
      "source": [
        "Xtrain_s1.case_count.describe()"
      ],
      "execution_count": 30,
      "outputs": [
        {
          "output_type": "execute_result",
          "data": {
            "text/plain": [
              "count      806.000000\n",
              "mean      2714.689826\n",
              "std       2042.418090\n",
              "min          1.000000\n",
              "25%       1633.250000\n",
              "50%       2602.000000\n",
              "75%       3333.000000\n",
              "max      21885.000000\n",
              "Name: case_count, dtype: float64"
            ]
          },
          "metadata": {
            "tags": []
          },
          "execution_count": 30
        }
      ]
    },
    {
      "cell_type": "code",
      "metadata": {
        "id": "XQatlbc6Nd6j",
        "colab_type": "code",
        "colab": {}
      },
      "source": [
        "Xtrain_s1 = Xtrain_s1[Xtrain_s1['case_count']>15]\n",
        "Xtrain_s1 = Xtrain_s1[Xtrain_s1['case_count']<=8000]\n",
        "Xtrain_s1=Xtrain_s1.reset_index().drop('index',axis=1)"
      ],
      "execution_count": 0,
      "outputs": []
    },
    {
      "cell_type": "code",
      "metadata": {
        "id": "90QRwSj7Nd9d",
        "colab_type": "code",
        "colab": {}
      },
      "source": [
        "Xtrain_s2 = create_features(train_s2, label='case_count',seg='2')\n",
        "Xtest_s2= create_features(test_s2,seg='2')"
      ],
      "execution_count": 0,
      "outputs": []
    },
    {
      "cell_type": "code",
      "metadata": {
        "id": "L1I4iENgNd45",
        "colab_type": "code",
        "colab": {
          "base_uri": "https://localhost:8080/",
          "height": 100
        },
        "outputId": "a922aa23-19e7-4fbb-95eb-675e462496d3"
      },
      "source": [
        "Xtrain_s2[Xtrain_s2['case_count']>40000]"
      ],
      "execution_count": 33,
      "outputs": [
        {
          "output_type": "execute_result",
          "data": {
            "text/html": [
              "<div>\n",
              "<style scoped>\n",
              "    .dataframe tbody tr th:only-of-type {\n",
              "        vertical-align: middle;\n",
              "    }\n",
              "\n",
              "    .dataframe tbody tr th {\n",
              "        vertical-align: top;\n",
              "    }\n",
              "\n",
              "    .dataframe thead th {\n",
              "        text-align: right;\n",
              "    }\n",
              "</style>\n",
              "<table border=\"1\" class=\"dataframe\">\n",
              "  <thead>\n",
              "    <tr style=\"text-align: right;\">\n",
              "      <th></th>\n",
              "      <th>case_count</th>\n",
              "      <th>dayofweek</th>\n",
              "      <th>quarter</th>\n",
              "      <th>month</th>\n",
              "      <th>year</th>\n",
              "      <th>dayofyear</th>\n",
              "      <th>dayofmonth</th>\n",
              "      <th>week</th>\n",
              "      <th>is_month_start</th>\n",
              "      <th>is_month_end</th>\n",
              "      <th>is_quarter_start</th>\n",
              "      <th>is_quarter_end</th>\n",
              "      <th>is_year_start</th>\n",
              "      <th>is_year_end</th>\n",
              "      <th>Semester</th>\n",
              "    </tr>\n",
              "  </thead>\n",
              "  <tbody>\n",
              "    <tr>\n",
              "      <th>474</th>\n",
              "      <td>43340.0</td>\n",
              "      <td>3</td>\n",
              "      <td>3</td>\n",
              "      <td>7</td>\n",
              "      <td>2018</td>\n",
              "      <td>200</td>\n",
              "      <td>19</td>\n",
              "      <td>29</td>\n",
              "      <td>False</td>\n",
              "      <td>False</td>\n",
              "      <td>False</td>\n",
              "      <td>False</td>\n",
              "      <td>False</td>\n",
              "      <td>False</td>\n",
              "      <td>2</td>\n",
              "    </tr>\n",
              "  </tbody>\n",
              "</table>\n",
              "</div>"
            ],
            "text/plain": [
              "     case_count  dayofweek  quarter  ...  is_year_start  is_year_end  Semester\n",
              "474     43340.0          3        3  ...          False        False         2\n",
              "\n",
              "[1 rows x 15 columns]"
            ]
          },
          "metadata": {
            "tags": []
          },
          "execution_count": 33
        }
      ]
    },
    {
      "cell_type": "code",
      "metadata": {
        "id": "6PNHll1ANnex",
        "colab_type": "code",
        "colab": {}
      },
      "source": [
        "Xtrain_s2 = Xtrain_s2[Xtrain_s2['case_count']<40000]\n",
        "Xtrain_s2=Xtrain_s2.reset_index().drop('index',axis=1)"
      ],
      "execution_count": 0,
      "outputs": []
    },
    {
      "cell_type": "code",
      "metadata": {
        "id": "76fy4VkiNnh6",
        "colab_type": "code",
        "colab": {}
      },
      "source": [
        "from lightgbm import LGBMClassifier,LGBMRegressor\n",
        "from sklearn.model_selection import StratifiedKFold,train_test_split\n",
        "from sklearn.linear_model import LogisticRegression\n",
        "from sklearn.ensemble import RandomForestClassifier\n",
        "from sklearn.metrics import accuracy_score,confusion_matrix,roc_auc_score"
      ],
      "execution_count": 0,
      "outputs": []
    },
    {
      "cell_type": "code",
      "metadata": {
        "id": "IsQUwlH8NnnL",
        "colab_type": "code",
        "colab": {}
      },
      "source": [
        "col_to_drop=['case_count']\n",
        "X,y=Xtrain_s1.drop(col_to_drop,axis=1),Xtrain_s1['case_count']\n",
        "Xtest=Xtest_s1"
      ],
      "execution_count": 0,
      "outputs": []
    },
    {
      "cell_type": "code",
      "metadata": {
        "id": "Ycw0akfMNnsp",
        "colab_type": "code",
        "colab": {
          "base_uri": "https://localhost:8080/",
          "height": 34
        },
        "outputId": "4682dd22-d912-44a0-d953-e428438c488f"
      },
      "source": [
        "print(X.shape,Xtest.shape)\n",
        "X_train,X_val,y_train,y_val = train_test_split(X,y,test_size=0.3,random_state = 1994)"
      ],
      "execution_count": 37,
      "outputs": [
        {
          "output_type": "stream",
          "text": [
            "(780, 15) (87, 15)\n"
          ],
          "name": "stdout"
        }
      ]
    },
    {
      "cell_type": "code",
      "metadata": {
        "id": "5wXksx9TNnqI",
        "colab_type": "code",
        "colab": {
          "base_uri": "https://localhost:8080/",
          "height": 34
        },
        "outputId": "65c60e5b-b0d6-44b9-adbf-8d8a502407f1"
      },
      "source": [
        "from sklearn.ensemble import RandomForestRegressor,BaggingRegressor\n",
        "from sklearn.tree import DecisionTreeRegressor\n",
        "rf=DecisionTreeRegressor(random_state=1994,max_leaf_nodes=110,max_depth=10)\n",
        "rf.fit(X_train,y_train)\n",
        "\n",
        "p=rf.predict(X_val)\n",
        "\n",
        "print('MAPE',mean_absolute_percentage_error(y_val,p))"
      ],
      "execution_count": 38,
      "outputs": [
        {
          "output_type": "stream",
          "text": [
            "MAPE 117.7627335589473\n"
          ],
          "name": "stdout"
        }
      ]
    },
    {
      "cell_type": "code",
      "metadata": {
        "id": "JJqFlJV9Nnls",
        "colab_type": "code",
        "colab": {
          "base_uri": "https://localhost:8080/",
          "height": 585
        },
        "outputId": "01d3ae02-2c77-40b9-9f27-ca8d0071a98f"
      },
      "source": [
        "import matplotlib.pyplot as plt\n",
        "import warnings\n",
        "import seaborn as sns\n",
        "sns.set_style('darkgrid')\n",
        "warnings.filterwarnings('ignore')\n",
        "\n",
        "%matplotlib inline\n",
        "feature_imp = pd.DataFrame(sorted(zip(rf.feature_importances_, X.columns), reverse=True)[:300], \n",
        "                           columns=['Value','Feature'])\n",
        "plt.figure(figsize=(12,8))\n",
        "sns.barplot(x=\"Value\", y=\"Feature\", data=feature_imp.sort_values(by=\"Value\", ascending=False))\n",
        "plt.title('LightGBM Features')\n",
        "plt.tight_layout()\n",
        "plt.show()"
      ],
      "execution_count": 39,
      "outputs": [
        {
          "output_type": "display_data",
          "data": {
            "image/png": "[encoded data removed]",
            "text/plain": [
              "<Figure size 864x576 with 1 Axes>"
            ]
          },
          "metadata": {
            "tags": []
          }
        }
      ]
    },
    {
      "cell_type": "code",
      "metadata": {
        "id": "5NXq0GlkNz-H",
        "colab_type": "code",
        "colab": {}
      },
      "source": [
        "grp=Xtrain_s1['dayofmonth'].values"
      ],
      "execution_count": 0,
      "outputs": []
    },
    {
      "cell_type": "code",
      "metadata": {
        "id": "E_LyS5EBN0Ph",
        "colab_type": "code",
        "colab": {
          "base_uri": "https://localhost:8080/",
          "height": 357
        },
        "outputId": "8d063133-18f2-4c40-fa17-6593841c9be9"
      },
      "source": [
        "y_pred_tot_s1=[]\n",
        "err=[]\n",
        "from sklearn.model_selection import KFold,StratifiedKFold,TimeSeriesSplit,GroupKFold,GroupShuffleSplit\n",
        "fold=GroupKFold(n_splits=20)\n",
        "\n",
        "i=1\n",
        "for train_index, test_index in fold.split(X,y,grp):\n",
        "    X_train, X_test = X.iloc[train_index], X.iloc[test_index]\n",
        "    y_train, y_test = y[train_index], y[test_index]\n",
        "    m=DecisionTreeRegressor(random_state=1994,max_leaf_nodes=100,max_features=10)\n",
        "    m.fit(X_train,y_train)\n",
        "    preds=m.predict(X_test)\n",
        "    print(\"err: \",mean_absolute_percentage_error(y_test,preds))\n",
        "    err.append(mean_absolute_percentage_error(y_test,preds))\n",
        "    p = m.predict(Xtest)\n",
        "    i=i+1\n",
        "    y_pred_tot_s1.append(p)"
      ],
      "execution_count": 41,
      "outputs": [
        {
          "output_type": "stream",
          "text": [
            "err:  96.1581000051413\n",
            "err:  23.832413889466196\n",
            "err:  26.954069763856687\n",
            "err:  292.8126783826011\n",
            "err:  97.68079322809153\n",
            "err:  49.73260822894069\n",
            "err:  18.941121556119448\n",
            "err:  13.911960262752668\n",
            "err:  17.003143029166786\n",
            "err:  145.06094170301773\n",
            "err:  15.838056940548654\n",
            "err:  15.748332360615791\n",
            "err:  10.378202904130243\n",
            "err:  16.900927614010733\n",
            "err:  18.611556732143306\n",
            "err:  10.185504352568833\n",
            "err:  223.3617838742405\n",
            "err:  158.02278539395343\n",
            "err:  138.07006155164055\n",
            "err:  104.20590487579729\n"
          ],
          "name": "stdout"
        }
      ]
    },
    {
      "cell_type": "code",
      "metadata": {
        "id": "jwYPRUJXN0Uw",
        "colab_type": "code",
        "colab": {
          "base_uri": "https://localhost:8080/",
          "height": 34
        },
        "outputId": "e6ec8a07-3553-45c4-8e67-189b9461e9f8"
      },
      "source": [
        "np.mean(err)"
      ],
      "execution_count": 42,
      "outputs": [
        {
          "output_type": "execute_result",
          "data": {
            "text/plain": [
              "74.67054733244018"
            ]
          },
          "metadata": {
            "tags": []
          },
          "execution_count": 42
        }
      ]
    },
    {
      "cell_type": "code",
      "metadata": {
        "id": "B8FPxYbhN0Mv",
        "colab_type": "code",
        "colab": {
          "base_uri": "https://localhost:8080/",
          "height": 282
        },
        "outputId": "0c02ae2b-96bc-46fb-a6ae-eb982e09a152"
      },
      "source": [
        "plt.plot(np.mean(y_pred_tot_s1,0))"
      ],
      "execution_count": 43,
      "outputs": [
        {
          "output_type": "execute_result",
          "data": {
            "text/plain": [
              "[<matplotlib.lines.Line2D at 0x7f4802af2160>]"
            ]
          },
          "metadata": {
            "tags": []
          },
          "execution_count": 43
        },
        {
          "output_type": "display_data",
          "data": {
            "image/png": "[encoded data removed]",
            "text/plain": [
              "<Figure size 432x288 with 1 Axes>"
            ]
          },
          "metadata": {
            "tags": []
          }
        }
      ]
    },
    {
      "cell_type": "code",
      "metadata": {
        "id": "CsF08rB2N0Kg",
        "colab_type": "code",
        "colab": {
          "base_uri": "https://localhost:8080/",
          "height": 34
        },
        "outputId": "66a7b727-1b5e-4263-a56e-b48204967edb"
      },
      "source": [
        "col_to_drop=['case_count']\n",
        "X,y=Xtrain_s2.drop(col_to_drop,axis=1),Xtrain_s2['case_count']\n",
        "Xtest=Xtest_s2\n",
        "\n",
        "print(X.shape,Xtest.shape)\n",
        "X_train,X_val,y_train,y_val = train_test_split(X,y,test_size=0.3,random_state = 1994)"
      ],
      "execution_count": 44,
      "outputs": [
        {
          "output_type": "stream",
          "text": [
            "(843, 14) (93, 14)\n"
          ],
          "name": "stdout"
        }
      ]
    },
    {
      "cell_type": "code",
      "metadata": {
        "id": "Z2-Ec81bN0IJ",
        "colab_type": "code",
        "colab": {
          "base_uri": "https://localhost:8080/",
          "height": 34
        },
        "outputId": "ad483484-9647-453b-9a30-cc2685325529"
      },
      "source": [
        "from sklearn.ensemble import RandomForestRegressor\n",
        "rf=DecisionTreeRegressor(random_state=1994,max_depth=10,max_features=11)\n",
        "rf.fit(X_train,y_train)\n",
        "\n",
        "p=rf.predict(X_val)\n",
        "\n",
        "print('MAPE',mean_absolute_percentage_error(y_val,p))"
      ],
      "execution_count": 45,
      "outputs": [
        {
          "output_type": "stream",
          "text": [
            "MAPE 24.00650286255746\n"
          ],
          "name": "stdout"
        }
      ]
    },
    {
      "cell_type": "code",
      "metadata": {
        "id": "Rt7BT0ahN0EK",
        "colab_type": "code",
        "colab": {
          "base_uri": "https://localhost:8080/",
          "height": 585
        },
        "outputId": "1b6ed382-8b2e-4d25-f9b5-fac742708865"
      },
      "source": [
        "import matplotlib.pyplot as plt\n",
        "import warnings\n",
        "import seaborn as sns\n",
        "sns.set_style('darkgrid')\n",
        "warnings.filterwarnings('ignore')\n",
        "\n",
        "%matplotlib inline\n",
        "feature_imp = pd.DataFrame(sorted(zip(rf.feature_importances_, X.columns), reverse=True)[:300], \n",
        "                           columns=['Value','Feature'])\n",
        "plt.figure(figsize=(12,8))\n",
        "sns.barplot(x=\"Value\", y=\"Feature\", data=feature_imp.sort_values(by=\"Value\", ascending=False))\n",
        "plt.title('LightGBM Features')\n",
        "plt.tight_layout()\n",
        "plt.show()"
      ],
      "execution_count": 46,
      "outputs": [
        {
          "output_type": "display_data",
          "data": {
            "image/png": "[encoded data removed]",
            "text/plain": [
              "<Figure size 864x576 with 1 Axes>"
            ]
          },
          "metadata": {
            "tags": []
          }
        }
      ]
    },
    {
      "cell_type": "code",
      "metadata": {
        "id": "OyreMNG3N0CB",
        "colab_type": "code",
        "colab": {}
      },
      "source": [
        "grp=Xtrain_s2['dayofyear'].values"
      ],
      "execution_count": 0,
      "outputs": []
    },
    {
      "cell_type": "code",
      "metadata": {
        "id": "z9b8geTuOFP6",
        "colab_type": "code",
        "colab": {
          "base_uri": "https://localhost:8080/",
          "height": 187
        },
        "outputId": "c4cf29f4-54fb-4d36-f4c4-8a460519973e"
      },
      "source": [
        "y_pred_tot_s2=[]\n",
        "err=[]\n",
        "from sklearn.model_selection import KFold,StratifiedKFold,TimeSeriesSplit\n",
        "fold=GroupKFold(n_splits=10)\n",
        "i=1\n",
        "for train_index, test_index in fold.split(X,y,grp):\n",
        "    X_train, X_test = X.iloc[train_index], X.iloc[test_index]\n",
        "    y_train, y_test = y[train_index], y[test_index]\n",
        "    m=DecisionTreeRegressor(random_state=1994,max_features=12)\n",
        "    m.fit(X_train,y_train)\n",
        "    preds=m.predict(X_test)\n",
        "    print(\"err: \",mean_absolute_percentage_error(y_test,preds))\n",
        "    err.append(mean_absolute_percentage_error(y_test,preds))\n",
        "    p = m.predict(Xtest)\n",
        "    i=i+1\n",
        "    y_pred_tot_s2.append(p)"
      ],
      "execution_count": 48,
      "outputs": [
        {
          "output_type": "stream",
          "text": [
            "err:  19.413530329050158\n",
            "err:  21.02840180570278\n",
            "err:  26.142880367255145\n",
            "err:  21.270734788666427\n",
            "err:  33.960312180231575\n",
            "err:  28.21523341457745\n",
            "err:  23.48079545345218\n",
            "err:  23.205613232127682\n",
            "err:  31.026905776096402\n",
            "err:  22.603793795752352\n"
          ],
          "name": "stdout"
        }
      ]
    },
    {
      "cell_type": "code",
      "metadata": {
        "id": "I0T4TM6WOFUG",
        "colab_type": "code",
        "colab": {
          "base_uri": "https://localhost:8080/",
          "height": 34
        },
        "outputId": "9da31938-c048-41fc-e80f-2269b1852da9"
      },
      "source": [
        "np.mean(err)"
      ],
      "execution_count": 49,
      "outputs": [
        {
          "output_type": "execute_result",
          "data": {
            "text/plain": [
              "25.034820114291215"
            ]
          },
          "metadata": {
            "tags": []
          },
          "execution_count": 49
        }
      ]
    },
    {
      "cell_type": "code",
      "metadata": {
        "id": "2FQ2hdOBOFbm",
        "colab_type": "code",
        "colab": {
          "base_uri": "https://localhost:8080/",
          "height": 282
        },
        "outputId": "c14ef5a5-576f-42fa-d0d7-9b44d10d86da"
      },
      "source": [
        "plt.plot(np.mean(y_pred_tot_s2,0))"
      ],
      "execution_count": 50,
      "outputs": [
        {
          "output_type": "execute_result",
          "data": {
            "text/plain": [
              "[<matplotlib.lines.Line2D at 0x7f4802a0deb8>]"
            ]
          },
          "metadata": {
            "tags": []
          },
          "execution_count": 50
        },
        {
          "output_type": "display_data",
          "data": {
            "image/png": "[encoded data removed]",
            "text/plain": [
              "<Figure size 432x288 with 1 Axes>"
            ]
          },
          "metadata": {
            "tags": []
          }
        }
      ]
    },
    {
      "cell_type": "code",
      "metadata": {
        "id": "jPNtalBWOFlI",
        "colab_type": "code",
        "colab": {}
      },
      "source": [
        "test.loc[test.segment==1, 'case_count']=np.mean(y_pred_tot_s1,0)\n",
        "test.loc[test.segment==2, 'case_count']=np.mean(y_pred_tot_s2,0)"
      ],
      "execution_count": 0,
      "outputs": []
    },
    {
      "cell_type": "code",
      "metadata": {
        "id": "ebCvuI4XOFif",
        "colab_type": "code",
        "colab": {}
      },
      "source": [
        "test.to_csv('kv7_dtrholidays.csv',index=False)"
      ],
      "execution_count": 0,
      "outputs": []
    },
    {
      "cell_type": "code",
      "metadata": {
        "id": "QKLPoYN4OFgB",
        "colab_type": "code",
        "colab": {}
      },
      "source": [
        ""
      ],
      "execution_count": 0,
      "outputs": []
    },
    {
      "cell_type": "code",
      "metadata": {
        "id": "srtgE9nnOFYm",
        "colab_type": "code",
        "colab": {}
      },
      "source": [
        ""
      ],
      "execution_count": 0,
      "outputs": []
    },
    {
      "cell_type": "code",
      "metadata": {
        "id": "U4VmQ9luOFNS",
        "colab_type": "code",
        "colab": {}
      },
      "source": [
        ""
      ],
      "execution_count": 0,
      "outputs": []
    },
    {
      "cell_type": "code",
      "metadata": {
        "id": "X9NG0thuOFK8",
        "colab_type": "code",
        "colab": {}
      },
      "source": [
        ""
      ],
      "execution_count": 0,
      "outputs": []
    },
    {
      "cell_type": "code",
      "metadata": {
        "id": "-X8S1F0fOFI9",
        "colab_type": "code",
        "colab": {}
      },
      "source": [
        ""
      ],
      "execution_count": 0,
      "outputs": []
    },
    {
      "cell_type": "code",
      "metadata": {
        "id": "VOivIkkAOFGj",
        "colab_type": "code",
        "colab": {}
      },
      "source": [
        ""
      ],
      "execution_count": 0,
      "outputs": []
    },
    {
      "cell_type": "code",
      "metadata": {
        "id": "OdqYRBA8OFDu",
        "colab_type": "code",
        "colab": {}
      },
      "source": [
        ""
      ],
      "execution_count": 0,
      "outputs": []
    },
    {
      "cell_type": "code",
      "metadata": {
        "id": "UxapjvWsOE-k",
        "colab_type": "code",
        "colab": {}
      },
      "source": [
        ""
      ],
      "execution_count": 0,
      "outputs": []
    }
  ]
}