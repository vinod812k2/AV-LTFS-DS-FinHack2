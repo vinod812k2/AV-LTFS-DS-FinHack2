{
  "nbformat": 4,
  "nbformat_minor": 0,
  "metadata": {
    "colab": {
      "name": "Copy of LTFS_2_26Jan.ipynb",
      "provenance": [],
      "collapsed_sections": []
    },
    "kernelspec": {
      "name": "python3",
      "display_name": "Python 3"
    }
  },
  "cells": [
    {
      "cell_type": "code",
      "metadata": {
        "id": "NqWgdOIA9cX1",
        "colab_type": "code",
        "colab": {}
      },
      "source": [
        "import pandas as pd\n",
        "import numpy as np\n",
        "import matplotlib.pyplot as plt\n",
        "%matplotlib inline\n",
        "import seaborn as sns\n",
        "from sklearn.model_selection import train_test_split,KFold,cross_val_score,RandomizedSearchCV,TimeSeriesSplit,GridSearchCV\n",
        "from sklearn.linear_model import LinearRegression,Ridge,Lasso\n",
        "from sklearn.ensemble import RandomForestRegressor\n",
        "pd.set_option('mode.chained_assignment', None)"
      ],
      "execution_count": 0,
      "outputs": []
    },
    {
      "cell_type": "code",
      "metadata": {
        "id": "WR9IR0Ej9cbI",
        "colab_type": "code",
        "colab": {}
      },
      "source": [
        "train = pd.read_csv(\"train.csv\",parse_dates=['application_date'])\n",
        "test  = pd.read_csv(\"test.csv\",parse_dates=['application_date'])"
      ],
      "execution_count": 0,
      "outputs": []
    },
    {
      "cell_type": "code",
      "metadata": {
        "id": "-yqaWvoMtXAD",
        "colab_type": "code",
        "outputId": "4e19c48f-929b-4dbb-826c-85743883f433",
        "colab": {
          "base_uri": "https://localhost:8080/",
          "height": 136
        }
      },
      "source": [
        "train.count()"
      ],
      "execution_count": 438,
      "outputs": [
        {
          "output_type": "execute_result",
          "data": {
            "text/plain": [
              "application_date    80402\n",
              "segment             80402\n",
              "branch_id           66898\n",
              "state               80402\n",
              "zone                66898\n",
              "case_count          80402\n",
              "dtype: int64"
            ]
          },
          "metadata": {
            "tags": []
          },
          "execution_count": 438
        }
      ]
    },
    {
      "cell_type": "markdown",
      "metadata": {
        "id": "zBwyZhoQsI3V",
        "colab_type": "text"
      },
      "source": [
        ""
      ]
    },
    {
      "cell_type": "code",
      "metadata": {
        "id": "y9LeIpmPc2sw",
        "colab_type": "code",
        "colab": {}
      },
      "source": [
        "df1 = train[train['segment'] == 1]"
      ],
      "execution_count": 0,
      "outputs": []
    },
    {
      "cell_type": "code",
      "metadata": {
        "id": "f5MuMEE0pK76",
        "colab_type": "code",
        "colab": {}
      },
      "source": [
        "df2 = train[train['segment'] == 2]"
      ],
      "execution_count": 0,
      "outputs": []
    },
    {
      "cell_type": "code",
      "metadata": {
        "id": "12xL1qrFpLGh",
        "colab_type": "code",
        "outputId": "93b2eaae-f8ee-4425-de61-51cbee092a4b",
        "colab": {
          "base_uri": "https://localhost:8080/",
          "height": 204
        }
      },
      "source": [
        "df2.head()"
      ],
      "execution_count": 441,
      "outputs": [
        {
          "output_type": "execute_result",
          "data": {
            "text/html": [
              "<div>\n",
              "<style scoped>\n",
              "    .dataframe tbody tr th:only-of-type {\n",
              "        vertical-align: middle;\n",
              "    }\n",
              "\n",
              "    .dataframe tbody tr th {\n",
              "        vertical-align: top;\n",
              "    }\n",
              "\n",
              "    .dataframe thead th {\n",
              "        text-align: right;\n",
              "    }\n",
              "</style>\n",
              "<table border=\"1\" class=\"dataframe\">\n",
              "  <thead>\n",
              "    <tr style=\"text-align: right;\">\n",
              "      <th></th>\n",
              "      <th>application_date</th>\n",
              "      <th>segment</th>\n",
              "      <th>branch_id</th>\n",
              "      <th>state</th>\n",
              "      <th>zone</th>\n",
              "      <th>case_count</th>\n",
              "    </tr>\n",
              "  </thead>\n",
              "  <tbody>\n",
              "    <tr>\n",
              "      <th>66898</th>\n",
              "      <td>2017-04-01</td>\n",
              "      <td>2</td>\n",
              "      <td>NaN</td>\n",
              "      <td>ASSAM</td>\n",
              "      <td>NaN</td>\n",
              "      <td>0.0</td>\n",
              "    </tr>\n",
              "    <tr>\n",
              "      <th>66899</th>\n",
              "      <td>2017-04-02</td>\n",
              "      <td>2</td>\n",
              "      <td>NaN</td>\n",
              "      <td>ASSAM</td>\n",
              "      <td>NaN</td>\n",
              "      <td>0.0</td>\n",
              "    </tr>\n",
              "    <tr>\n",
              "      <th>66900</th>\n",
              "      <td>2017-04-03</td>\n",
              "      <td>2</td>\n",
              "      <td>NaN</td>\n",
              "      <td>ASSAM</td>\n",
              "      <td>NaN</td>\n",
              "      <td>0.0</td>\n",
              "    </tr>\n",
              "    <tr>\n",
              "      <th>66901</th>\n",
              "      <td>2017-04-04</td>\n",
              "      <td>2</td>\n",
              "      <td>NaN</td>\n",
              "      <td>ASSAM</td>\n",
              "      <td>NaN</td>\n",
              "      <td>0.0</td>\n",
              "    </tr>\n",
              "    <tr>\n",
              "      <th>66902</th>\n",
              "      <td>2017-04-05</td>\n",
              "      <td>2</td>\n",
              "      <td>NaN</td>\n",
              "      <td>ASSAM</td>\n",
              "      <td>NaN</td>\n",
              "      <td>0.0</td>\n",
              "    </tr>\n",
              "  </tbody>\n",
              "</table>\n",
              "</div>"
            ],
            "text/plain": [
              "      application_date  segment  branch_id  state zone  case_count\n",
              "66898       2017-04-01        2        NaN  ASSAM  NaN         0.0\n",
              "66899       2017-04-02        2        NaN  ASSAM  NaN         0.0\n",
              "66900       2017-04-03        2        NaN  ASSAM  NaN         0.0\n",
              "66901       2017-04-04        2        NaN  ASSAM  NaN         0.0\n",
              "66902       2017-04-05        2        NaN  ASSAM  NaN         0.0"
            ]
          },
          "metadata": {
            "tags": []
          },
          "execution_count": 441
        }
      ]
    },
    {
      "cell_type": "code",
      "metadata": {
        "id": "ELOIZ5zEpLBq",
        "colab_type": "code",
        "colab": {}
      },
      "source": [
        "df2.drop(df2[df2['state'] == 'HARYANA'].index,inplace = True)\n",
        "df2.drop(df2[df2['state'] == 'PUNJAB'].index,inplace = True)"
      ],
      "execution_count": 0,
      "outputs": []
    },
    {
      "cell_type": "code",
      "metadata": {
        "id": "ywizUibUpyuC",
        "colab_type": "code",
        "outputId": "01d48ebb-e227-4163-f05e-4ff3d648b4f2",
        "colab": {
          "base_uri": "https://localhost:8080/",
          "height": 289
        }
      },
      "source": [
        "df2.groupby('state')['case_count'].sum()"
      ],
      "execution_count": 443,
      "outputs": [
        {
          "output_type": "execute_result",
          "data": {
            "text/plain": [
              "state\n",
              "ASSAM              645014.0\n",
              "BIHAR             1311778.0\n",
              "CHHATTISGARH       295944.0\n",
              "GUJARAT            292448.0\n",
              "JHARKHAND          133834.0\n",
              "KARNATAKA         1550133.0\n",
              "KERALA             808907.0\n",
              "MADHYA PRADESH     541299.0\n",
              "MAHARASHTRA        287218.0\n",
              "ORISSA            1245940.0\n",
              "TAMIL NADU        3990073.0\n",
              "TRIPURA            149839.0\n",
              "UTTAR PRADESH      259056.0\n",
              "WEST BENGAL       1213588.0\n",
              "Name: case_count, dtype: float64"
            ]
          },
          "metadata": {
            "tags": []
          },
          "execution_count": 443
        }
      ]
    },
    {
      "cell_type": "code",
      "metadata": {
        "id": "Yw7EEJ_rmR5G",
        "colab_type": "code",
        "colab": {}
      },
      "source": [
        "train=df1.append(df2)"
      ],
      "execution_count": 0,
      "outputs": []
    },
    {
      "cell_type": "code",
      "metadata": {
        "id": "OtEsWcnBmR9a",
        "colab_type": "code",
        "outputId": "2fe93833-1d37-488f-989d-13e3914377eb",
        "colab": {
          "base_uri": "https://localhost:8080/",
          "height": 136
        }
      },
      "source": [
        "train.count()"
      ],
      "execution_count": 445,
      "outputs": [
        {
          "output_type": "execute_result",
          "data": {
            "text/plain": [
              "application_date    78714\n",
              "segment             78714\n",
              "branch_id           66898\n",
              "state               78714\n",
              "zone                66898\n",
              "case_count          78714\n",
              "dtype: int64"
            ]
          },
          "metadata": {
            "tags": []
          },
          "execution_count": 445
        }
      ]
    },
    {
      "cell_type": "code",
      "metadata": {
        "id": "VldxCs3GmR2H",
        "colab_type": "code",
        "colab": {}
      },
      "source": [
        ""
      ],
      "execution_count": 0,
      "outputs": []
    },
    {
      "cell_type": "code",
      "metadata": {
        "id": "XQY4t9puc6aH",
        "colab_type": "code",
        "outputId": "ed547c2f-42fa-4551-9f79-5cf87bab7f7b",
        "colab": {
          "base_uri": "https://localhost:8080/",
          "height": 204
        }
      },
      "source": [
        "test.head()"
      ],
      "execution_count": 446,
      "outputs": [
        {
          "output_type": "execute_result",
          "data": {
            "text/html": [
              "<div>\n",
              "<style scoped>\n",
              "    .dataframe tbody tr th:only-of-type {\n",
              "        vertical-align: middle;\n",
              "    }\n",
              "\n",
              "    .dataframe tbody tr th {\n",
              "        vertical-align: top;\n",
              "    }\n",
              "\n",
              "    .dataframe thead th {\n",
              "        text-align: right;\n",
              "    }\n",
              "</style>\n",
              "<table border=\"1\" class=\"dataframe\">\n",
              "  <thead>\n",
              "    <tr style=\"text-align: right;\">\n",
              "      <th></th>\n",
              "      <th>id</th>\n",
              "      <th>application_date</th>\n",
              "      <th>segment</th>\n",
              "    </tr>\n",
              "  </thead>\n",
              "  <tbody>\n",
              "    <tr>\n",
              "      <th>0</th>\n",
              "      <td>1</td>\n",
              "      <td>2019-07-06</td>\n",
              "      <td>1</td>\n",
              "    </tr>\n",
              "    <tr>\n",
              "      <th>1</th>\n",
              "      <td>2</td>\n",
              "      <td>2019-07-07</td>\n",
              "      <td>1</td>\n",
              "    </tr>\n",
              "    <tr>\n",
              "      <th>2</th>\n",
              "      <td>3</td>\n",
              "      <td>2019-07-08</td>\n",
              "      <td>1</td>\n",
              "    </tr>\n",
              "    <tr>\n",
              "      <th>3</th>\n",
              "      <td>4</td>\n",
              "      <td>2019-07-09</td>\n",
              "      <td>1</td>\n",
              "    </tr>\n",
              "    <tr>\n",
              "      <th>4</th>\n",
              "      <td>5</td>\n",
              "      <td>2019-07-10</td>\n",
              "      <td>1</td>\n",
              "    </tr>\n",
              "  </tbody>\n",
              "</table>\n",
              "</div>"
            ],
            "text/plain": [
              "   id application_date  segment\n",
              "0   1       2019-07-06        1\n",
              "1   2       2019-07-07        1\n",
              "2   3       2019-07-08        1\n",
              "3   4       2019-07-09        1\n",
              "4   5       2019-07-10        1"
            ]
          },
          "metadata": {
            "tags": []
          },
          "execution_count": 446
        }
      ]
    },
    {
      "cell_type": "code",
      "metadata": {
        "id": "lALO_bjF9ceU",
        "colab_type": "code",
        "colab": {}
      },
      "source": [
        "Submission = test[['id','application_date','segment']]\n",
        "test.drop('id',axis=1,inplace=True)"
      ],
      "execution_count": 0,
      "outputs": []
    },
    {
      "cell_type": "code",
      "metadata": {
        "id": "RTvV7GFa9chS",
        "colab_type": "code",
        "colab": {}
      },
      "source": [
        "df_train = train.copy()\n",
        "df_test = test.copy()"
      ],
      "execution_count": 0,
      "outputs": []
    },
    {
      "cell_type": "code",
      "metadata": {
        "id": "KqRdqAsU9cj-",
        "colab_type": "code",
        "outputId": "bc405c99-1c34-4be5-84c5-6dd8b3fe0c9a",
        "colab": {
          "base_uri": "https://localhost:8080/",
          "height": 312
        }
      },
      "source": [
        "sns.countplot(train['segment'],order=train['segment'].value_counts().index)\n",
        "plt.title(\"Distribution of Segment Variable\")\n",
        "plt.xlabel(\"Segment\")\n",
        "plt.ylabel(\"Count\")\n",
        "# Lot more values of Segment1 than Segment2"
      ],
      "execution_count": 449,
      "outputs": [
        {
          "output_type": "execute_result",
          "data": {
            "text/plain": [
              "Text(0, 0.5, 'Count')"
            ]
          },
          "metadata": {
            "tags": []
          },
          "execution_count": 449
        },
        {
          "output_type": "display_data",
          "data": {
            "image/png": "[encoded data removed]",
            "text/plain": [
              "<Figure size 432x288 with 1 Axes>"
            ]
          },
          "metadata": {
            "tags": []
          }
        }
      ]
    },
    {
      "cell_type": "code",
      "metadata": {
        "id": "C6EO7auP9cnT",
        "colab_type": "code",
        "outputId": "4ec1ac61-f07d-4480-fbd7-e70f7ef668a0",
        "colab": {
          "base_uri": "https://localhost:8080/",
          "height": 170
        }
      },
      "source": [
        "train['case_count'].describe()"
      ],
      "execution_count": 450,
      "outputs": [
        {
          "output_type": "execute_result",
          "data": {
            "text/plain": [
              "count    78714.000000\n",
              "mean       189.459448\n",
              "std        757.100377\n",
              "min          0.000000\n",
              "25%          0.000000\n",
              "50%         18.000000\n",
              "75%         62.000000\n",
              "max      13787.000000\n",
              "Name: case_count, dtype: float64"
            ]
          },
          "metadata": {
            "tags": []
          },
          "execution_count": 450
        }
      ]
    },
    {
      "cell_type": "code",
      "metadata": {
        "id": "0G3sDbWg9cpw",
        "colab_type": "code",
        "outputId": "68208cff-29f8-4e11-a1bd-06dd35f9ed9e",
        "colab": {
          "base_uri": "https://localhost:8080/",
          "height": 297
        }
      },
      "source": [
        "sns.distplot(np.log1p(train['case_count']),kde=False,bins=50)"
      ],
      "execution_count": 451,
      "outputs": [
        {
          "output_type": "execute_result",
          "data": {
            "text/plain": [
              "<matplotlib.axes._subplots.AxesSubplot at 0x7f99bba91240>"
            ]
          },
          "metadata": {
            "tags": []
          },
          "execution_count": 451
        },
        {
          "output_type": "display_data",
          "data": {
            "image/png": "[encoded data removed]",
            "text/plain": [
              "<Figure size 432x288 with 1 Axes>"
            ]
          },
          "metadata": {
            "tags": []
          }
        }
      ]
    },
    {
      "cell_type": "code",
      "metadata": {
        "id": "szkQticl9ct_",
        "colab_type": "code",
        "outputId": "3aee4e2b-3a1f-4b5a-f58a-1bf0a8421177",
        "colab": {
          "base_uri": "https://localhost:8080/",
          "height": 142
        }
      },
      "source": [
        "train.groupby('segment')['case_count'].agg(['min','max','mean','median','std'])"
      ],
      "execution_count": 452,
      "outputs": [
        {
          "output_type": "execute_result",
          "data": {
            "text/html": [
              "<div>\n",
              "<style scoped>\n",
              "    .dataframe tbody tr th:only-of-type {\n",
              "        vertical-align: middle;\n",
              "    }\n",
              "\n",
              "    .dataframe tbody tr th {\n",
              "        vertical-align: top;\n",
              "    }\n",
              "\n",
              "    .dataframe thead th {\n",
              "        text-align: right;\n",
              "    }\n",
              "</style>\n",
              "<table border=\"1\" class=\"dataframe\">\n",
              "  <thead>\n",
              "    <tr style=\"text-align: right;\">\n",
              "      <th></th>\n",
              "      <th>min</th>\n",
              "      <th>max</th>\n",
              "      <th>mean</th>\n",
              "      <th>median</th>\n",
              "      <th>std</th>\n",
              "    </tr>\n",
              "    <tr>\n",
              "      <th>segment</th>\n",
              "      <th></th>\n",
              "      <th></th>\n",
              "      <th></th>\n",
              "      <th></th>\n",
              "      <th></th>\n",
              "    </tr>\n",
              "  </thead>\n",
              "  <tbody>\n",
              "    <tr>\n",
              "      <th>1</th>\n",
              "      <td>0.0</td>\n",
              "      <td>1890.0</td>\n",
              "      <td>32.707106</td>\n",
              "      <td>14.0</td>\n",
              "      <td>61.591868</td>\n",
              "    </tr>\n",
              "    <tr>\n",
              "      <th>2</th>\n",
              "      <td>0.0</td>\n",
              "      <td>13787.0</td>\n",
              "      <td>1076.935596</td>\n",
              "      <td>477.0</td>\n",
              "      <td>1694.240438</td>\n",
              "    </tr>\n",
              "  </tbody>\n",
              "</table>\n",
              "</div>"
            ],
            "text/plain": [
              "         min      max         mean  median          std\n",
              "segment                                                \n",
              "1        0.0   1890.0    32.707106    14.0    61.591868\n",
              "2        0.0  13787.0  1076.935596   477.0  1694.240438"
            ]
          },
          "metadata": {
            "tags": []
          },
          "execution_count": 452
        }
      ]
    },
    {
      "cell_type": "code",
      "metadata": {
        "id": "nanA7yU5_LPM",
        "colab_type": "code",
        "outputId": "6721e558-0dac-447e-9709-50674c7207ec",
        "colab": {
          "base_uri": "https://localhost:8080/",
          "height": 700
        }
      },
      "source": [
        "train.groupby('state')['case_count'].agg(['count','min','max','mean','median','std','sum']).sort_values(by='count')"
      ],
      "execution_count": 453,
      "outputs": [
        {
          "output_type": "execute_result",
          "data": {
            "text/html": [
              "<div>\n",
              "<style scoped>\n",
              "    .dataframe tbody tr th:only-of-type {\n",
              "        vertical-align: middle;\n",
              "    }\n",
              "\n",
              "    .dataframe tbody tr th {\n",
              "        vertical-align: top;\n",
              "    }\n",
              "\n",
              "    .dataframe thead th {\n",
              "        text-align: right;\n",
              "    }\n",
              "</style>\n",
              "<table border=\"1\" class=\"dataframe\">\n",
              "  <thead>\n",
              "    <tr style=\"text-align: right;\">\n",
              "      <th></th>\n",
              "      <th>count</th>\n",
              "      <th>min</th>\n",
              "      <th>max</th>\n",
              "      <th>mean</th>\n",
              "      <th>median</th>\n",
              "      <th>std</th>\n",
              "      <th>sum</th>\n",
              "    </tr>\n",
              "    <tr>\n",
              "      <th>state</th>\n",
              "      <th></th>\n",
              "      <th></th>\n",
              "      <th></th>\n",
              "      <th></th>\n",
              "      <th></th>\n",
              "      <th></th>\n",
              "      <th></th>\n",
              "    </tr>\n",
              "  </thead>\n",
              "  <tbody>\n",
              "    <tr>\n",
              "      <th>DELHI</th>\n",
              "      <td>806</td>\n",
              "      <td>0.0</td>\n",
              "      <td>1488.0</td>\n",
              "      <td>168.486352</td>\n",
              "      <td>136.0</td>\n",
              "      <td>148.757794</td>\n",
              "      <td>135800.0</td>\n",
              "    </tr>\n",
              "    <tr>\n",
              "      <th>UTTARAKHAND</th>\n",
              "      <td>1612</td>\n",
              "      <td>0.0</td>\n",
              "      <td>383.0</td>\n",
              "      <td>24.782258</td>\n",
              "      <td>20.0</td>\n",
              "      <td>27.525605</td>\n",
              "      <td>39949.0</td>\n",
              "    </tr>\n",
              "    <tr>\n",
              "      <th>TELANGANA</th>\n",
              "      <td>1612</td>\n",
              "      <td>0.0</td>\n",
              "      <td>1038.0</td>\n",
              "      <td>56.153226</td>\n",
              "      <td>0.0</td>\n",
              "      <td>88.913544</td>\n",
              "      <td>90519.0</td>\n",
              "    </tr>\n",
              "    <tr>\n",
              "      <th>KERALA</th>\n",
              "      <td>1650</td>\n",
              "      <td>0.0</td>\n",
              "      <td>3369.0</td>\n",
              "      <td>496.008485</td>\n",
              "      <td>39.5</td>\n",
              "      <td>722.016808</td>\n",
              "      <td>818414.0</td>\n",
              "    </tr>\n",
              "    <tr>\n",
              "      <th>CHHATTISGARH</th>\n",
              "      <td>1650</td>\n",
              "      <td>0.0</td>\n",
              "      <td>1111.0</td>\n",
              "      <td>181.298788</td>\n",
              "      <td>22.5</td>\n",
              "      <td>241.012685</td>\n",
              "      <td>299143.0</td>\n",
              "    </tr>\n",
              "    <tr>\n",
              "      <th>MADHYA PRADESH</th>\n",
              "      <td>1650</td>\n",
              "      <td>0.0</td>\n",
              "      <td>2350.0</td>\n",
              "      <td>348.672121</td>\n",
              "      <td>87.0</td>\n",
              "      <td>455.859267</td>\n",
              "      <td>575309.0</td>\n",
              "    </tr>\n",
              "    <tr>\n",
              "      <th>TRIPURA</th>\n",
              "      <td>2456</td>\n",
              "      <td>0.0</td>\n",
              "      <td>997.0</td>\n",
              "      <td>82.313111</td>\n",
              "      <td>32.0</td>\n",
              "      <td>142.665541</td>\n",
              "      <td>202161.0</td>\n",
              "    </tr>\n",
              "    <tr>\n",
              "      <th>JHARKHAND</th>\n",
              "      <td>2456</td>\n",
              "      <td>0.0</td>\n",
              "      <td>833.0</td>\n",
              "      <td>69.036645</td>\n",
              "      <td>20.0</td>\n",
              "      <td>137.794878</td>\n",
              "      <td>169554.0</td>\n",
              "    </tr>\n",
              "    <tr>\n",
              "      <th>HARYANA</th>\n",
              "      <td>3224</td>\n",
              "      <td>0.0</td>\n",
              "      <td>118.0</td>\n",
              "      <td>3.736973</td>\n",
              "      <td>0.0</td>\n",
              "      <td>8.305876</td>\n",
              "      <td>12048.0</td>\n",
              "    </tr>\n",
              "    <tr>\n",
              "      <th>BIHAR</th>\n",
              "      <td>3262</td>\n",
              "      <td>0.0</td>\n",
              "      <td>7691.0</td>\n",
              "      <td>419.025445</td>\n",
              "      <td>25.0</td>\n",
              "      <td>1111.541528</td>\n",
              "      <td>1366861.0</td>\n",
              "    </tr>\n",
              "    <tr>\n",
              "      <th>KARNATAKA</th>\n",
              "      <td>3262</td>\n",
              "      <td>0.0</td>\n",
              "      <td>5202.0</td>\n",
              "      <td>519.345494</td>\n",
              "      <td>35.0</td>\n",
              "      <td>972.285346</td>\n",
              "      <td>1694105.0</td>\n",
              "    </tr>\n",
              "    <tr>\n",
              "      <th>ORISSA</th>\n",
              "      <td>3262</td>\n",
              "      <td>0.0</td>\n",
              "      <td>5831.0</td>\n",
              "      <td>408.938688</td>\n",
              "      <td>45.0</td>\n",
              "      <td>950.226384</td>\n",
              "      <td>1333958.0</td>\n",
              "    </tr>\n",
              "    <tr>\n",
              "      <th>PUNJAB</th>\n",
              "      <td>4030</td>\n",
              "      <td>0.0</td>\n",
              "      <td>448.0</td>\n",
              "      <td>18.079156</td>\n",
              "      <td>12.0</td>\n",
              "      <td>26.755810</td>\n",
              "      <td>72859.0</td>\n",
              "    </tr>\n",
              "    <tr>\n",
              "      <th>ASSAM</th>\n",
              "      <td>4068</td>\n",
              "      <td>0.0</td>\n",
              "      <td>3208.0</td>\n",
              "      <td>187.618240</td>\n",
              "      <td>28.0</td>\n",
              "      <td>454.378089</td>\n",
              "      <td>763231.0</td>\n",
              "    </tr>\n",
              "    <tr>\n",
              "      <th>ANDHRA PRADESH</th>\n",
              "      <td>4836</td>\n",
              "      <td>0.0</td>\n",
              "      <td>179.0</td>\n",
              "      <td>3.517370</td>\n",
              "      <td>0.0</td>\n",
              "      <td>8.804760</td>\n",
              "      <td>17010.0</td>\n",
              "    </tr>\n",
              "    <tr>\n",
              "      <th>UTTAR PRADESH</th>\n",
              "      <td>6486</td>\n",
              "      <td>0.0</td>\n",
              "      <td>1203.0</td>\n",
              "      <td>43.638760</td>\n",
              "      <td>0.0</td>\n",
              "      <td>131.554427</td>\n",
              "      <td>283041.0</td>\n",
              "    </tr>\n",
              "    <tr>\n",
              "      <th>TAMIL NADU</th>\n",
              "      <td>6486</td>\n",
              "      <td>0.0</td>\n",
              "      <td>13787.0</td>\n",
              "      <td>634.457601</td>\n",
              "      <td>11.0</td>\n",
              "      <td>2032.364822</td>\n",
              "      <td>4115092.0</td>\n",
              "    </tr>\n",
              "    <tr>\n",
              "      <th>GUJARAT</th>\n",
              "      <td>7292</td>\n",
              "      <td>0.0</td>\n",
              "      <td>1890.0</td>\n",
              "      <td>84.943774</td>\n",
              "      <td>25.0</td>\n",
              "      <td>151.453904</td>\n",
              "      <td>619410.0</td>\n",
              "    </tr>\n",
              "    <tr>\n",
              "      <th>WEST BENGAL</th>\n",
              "      <td>7292</td>\n",
              "      <td>0.0</td>\n",
              "      <td>4962.0</td>\n",
              "      <td>212.441306</td>\n",
              "      <td>40.0</td>\n",
              "      <td>580.958702</td>\n",
              "      <td>1549122.0</td>\n",
              "    </tr>\n",
              "    <tr>\n",
              "      <th>MAHARASHTRA</th>\n",
              "      <td>11322</td>\n",
              "      <td>0.0</td>\n",
              "      <td>1754.0</td>\n",
              "      <td>66.730701</td>\n",
              "      <td>27.0</td>\n",
              "      <td>124.410140</td>\n",
              "      <td>755525.0</td>\n",
              "    </tr>\n",
              "  </tbody>\n",
              "</table>\n",
              "</div>"
            ],
            "text/plain": [
              "                count  min      max        mean  median          std        sum\n",
              "state                                                                          \n",
              "DELHI             806  0.0   1488.0  168.486352   136.0   148.757794   135800.0\n",
              "UTTARAKHAND      1612  0.0    383.0   24.782258    20.0    27.525605    39949.0\n",
              "TELANGANA        1612  0.0   1038.0   56.153226     0.0    88.913544    90519.0\n",
              "KERALA           1650  0.0   3369.0  496.008485    39.5   722.016808   818414.0\n",
              "CHHATTISGARH     1650  0.0   1111.0  181.298788    22.5   241.012685   299143.0\n",
              "MADHYA PRADESH   1650  0.0   2350.0  348.672121    87.0   455.859267   575309.0\n",
              "TRIPURA          2456  0.0    997.0   82.313111    32.0   142.665541   202161.0\n",
              "JHARKHAND        2456  0.0    833.0   69.036645    20.0   137.794878   169554.0\n",
              "HARYANA          3224  0.0    118.0    3.736973     0.0     8.305876    12048.0\n",
              "BIHAR            3262  0.0   7691.0  419.025445    25.0  1111.541528  1366861.0\n",
              "KARNATAKA        3262  0.0   5202.0  519.345494    35.0   972.285346  1694105.0\n",
              "ORISSA           3262  0.0   5831.0  408.938688    45.0   950.226384  1333958.0\n",
              "PUNJAB           4030  0.0    448.0   18.079156    12.0    26.755810    72859.0\n",
              "ASSAM            4068  0.0   3208.0  187.618240    28.0   454.378089   763231.0\n",
              "ANDHRA PRADESH   4836  0.0    179.0    3.517370     0.0     8.804760    17010.0\n",
              "UTTAR PRADESH    6486  0.0   1203.0   43.638760     0.0   131.554427   283041.0\n",
              "TAMIL NADU       6486  0.0  13787.0  634.457601    11.0  2032.364822  4115092.0\n",
              "GUJARAT          7292  0.0   1890.0   84.943774    25.0   151.453904   619410.0\n",
              "WEST BENGAL      7292  0.0   4962.0  212.441306    40.0   580.958702  1549122.0\n",
              "MAHARASHTRA     11322  0.0   1754.0   66.730701    27.0   124.410140   755525.0"
            ]
          },
          "metadata": {
            "tags": []
          },
          "execution_count": 453
        }
      ]
    },
    {
      "cell_type": "code",
      "metadata": {
        "id": "yaKSqDOw_LSd",
        "colab_type": "code",
        "outputId": "9ba0453c-5338-4ff5-c7e4-94250f2a868c",
        "colab": {
          "base_uri": "https://localhost:8080/",
          "height": 381
        }
      },
      "source": [
        "train.groupby('state')['case_count'].sum().sort_values().plot(kind='bar')"
      ],
      "execution_count": 454,
      "outputs": [
        {
          "output_type": "execute_result",
          "data": {
            "text/plain": [
              "<matplotlib.axes._subplots.AxesSubplot at 0x7f99bb975cc0>"
            ]
          },
          "metadata": {
            "tags": []
          },
          "execution_count": 454
        },
        {
          "output_type": "display_data",
          "data": {
            "image/png": "[encoded data removed]",
            "text/plain": [
              "<Figure size 432x288 with 1 Axes>"
            ]
          },
          "metadata": {
            "tags": []
          }
        }
      ]
    },
    {
      "cell_type": "code",
      "metadata": {
        "id": "skxNDbxk_LX6",
        "colab_type": "code",
        "outputId": "e9a02187-46d7-4785-b424-620580a3c70c",
        "colab": {
          "base_uri": "https://localhost:8080/",
          "height": 235
        }
      },
      "source": [
        "train.groupby('zone')['case_count'].agg(['count','min','max','mean','median','std','sum']).sort_values(by='count')"
      ],
      "execution_count": 455,
      "outputs": [
        {
          "output_type": "execute_result",
          "data": {
            "text/html": [
              "<div>\n",
              "<style scoped>\n",
              "    .dataframe tbody tr th:only-of-type {\n",
              "        vertical-align: middle;\n",
              "    }\n",
              "\n",
              "    .dataframe tbody tr th {\n",
              "        vertical-align: top;\n",
              "    }\n",
              "\n",
              "    .dataframe thead th {\n",
              "        text-align: right;\n",
              "    }\n",
              "</style>\n",
              "<table border=\"1\" class=\"dataframe\">\n",
              "  <thead>\n",
              "    <tr style=\"text-align: right;\">\n",
              "      <th></th>\n",
              "      <th>count</th>\n",
              "      <th>min</th>\n",
              "      <th>max</th>\n",
              "      <th>mean</th>\n",
              "      <th>median</th>\n",
              "      <th>std</th>\n",
              "      <th>sum</th>\n",
              "    </tr>\n",
              "    <tr>\n",
              "      <th>zone</th>\n",
              "      <th></th>\n",
              "      <th></th>\n",
              "      <th></th>\n",
              "      <th></th>\n",
              "      <th></th>\n",
              "      <th></th>\n",
              "      <th></th>\n",
              "    </tr>\n",
              "  </thead>\n",
              "  <tbody>\n",
              "    <tr>\n",
              "      <th>CENTRAL</th>\n",
              "      <td>1612</td>\n",
              "      <td>0.0</td>\n",
              "      <td>609.0</td>\n",
              "      <td>23.082506</td>\n",
              "      <td>11.0</td>\n",
              "      <td>36.657118</td>\n",
              "      <td>37209.0</td>\n",
              "    </tr>\n",
              "    <tr>\n",
              "      <th>NORTH</th>\n",
              "      <td>8060</td>\n",
              "      <td>0.0</td>\n",
              "      <td>1488.0</td>\n",
              "      <td>27.383002</td>\n",
              "      <td>6.0</td>\n",
              "      <td>69.671582</td>\n",
              "      <td>220707.0</td>\n",
              "    </tr>\n",
              "    <tr>\n",
              "      <th>WEST</th>\n",
              "      <td>16926</td>\n",
              "      <td>0.0</td>\n",
              "      <td>1890.0</td>\n",
              "      <td>46.985053</td>\n",
              "      <td>23.0</td>\n",
              "      <td>77.373460</td>\n",
              "      <td>795269.0</td>\n",
              "    </tr>\n",
              "    <tr>\n",
              "      <th>SOUTH</th>\n",
              "      <td>18538</td>\n",
              "      <td>0.0</td>\n",
              "      <td>1143.0</td>\n",
              "      <td>26.973784</td>\n",
              "      <td>8.0</td>\n",
              "      <td>54.089844</td>\n",
              "      <td>500040.0</td>\n",
              "    </tr>\n",
              "    <tr>\n",
              "      <th>EAST</th>\n",
              "      <td>21762</td>\n",
              "      <td>0.0</td>\n",
              "      <td>1657.0</td>\n",
              "      <td>29.170802</td>\n",
              "      <td>16.0</td>\n",
              "      <td>48.989433</td>\n",
              "      <td>634815.0</td>\n",
              "    </tr>\n",
              "  </tbody>\n",
              "</table>\n",
              "</div>"
            ],
            "text/plain": [
              "         count  min     max       mean  median        std       sum\n",
              "zone                                                               \n",
              "CENTRAL   1612  0.0   609.0  23.082506    11.0  36.657118   37209.0\n",
              "NORTH     8060  0.0  1488.0  27.383002     6.0  69.671582  220707.0\n",
              "WEST     16926  0.0  1890.0  46.985053    23.0  77.373460  795269.0\n",
              "SOUTH    18538  0.0  1143.0  26.973784     8.0  54.089844  500040.0\n",
              "EAST     21762  0.0  1657.0  29.170802    16.0  48.989433  634815.0"
            ]
          },
          "metadata": {
            "tags": []
          },
          "execution_count": 455
        }
      ]
    },
    {
      "cell_type": "code",
      "metadata": {
        "id": "PzjD5OcQ_LbF",
        "colab_type": "code",
        "outputId": "a0895846-3b68-40b4-9c19-94871ada92fd",
        "colab": {
          "base_uri": "https://localhost:8080/",
          "height": 332
        }
      },
      "source": [
        "train.groupby('zone')['case_count'].sum().sort_values().plot(kind='bar')"
      ],
      "execution_count": 456,
      "outputs": [
        {
          "output_type": "execute_result",
          "data": {
            "text/plain": [
              "<matplotlib.axes._subplots.AxesSubplot at 0x7f99bb9245c0>"
            ]
          },
          "metadata": {
            "tags": []
          },
          "execution_count": 456
        },
        {
          "output_type": "display_data",
          "data": {
            "image/png": "[encoded data removed]",
            "text/plain": [
              "<Figure size 432x288 with 1 Axes>"
            ]
          },
          "metadata": {
            "tags": []
          }
        }
      ]
    },
    {
      "cell_type": "code",
      "metadata": {
        "id": "7uVN9t2D_Ldx",
        "colab_type": "code",
        "colab": {}
      },
      "source": [
        "train['year'] = train.application_date.dt.year\n",
        "train['month'] = train.application_date.dt.month\n",
        "train['dayofweek'] = train.application_date.dt.dayofweek\n",
        "train['day'] = train.application_date.dt.day\n",
        "train['quarter'] = train.application_date.dt.quarter\n",
        "train['is_month_start'] = train.application_date.dt.is_month_start\n",
        "train['is_month_end'] = train.application_date.dt.is_month_end\n",
        "train['is_quarter_start'] = train.application_date.dt.is_quarter_start\n",
        "train['is_quarter_end'] = train.application_date.dt.is_quarter_end"
      ],
      "execution_count": 0,
      "outputs": []
    },
    {
      "cell_type": "code",
      "metadata": {
        "id": "iEFHA6-q_LVz",
        "colab_type": "code",
        "outputId": "53725948-0e9f-424a-899d-a686942c0973",
        "colab": {
          "base_uri": "https://localhost:8080/",
          "height": 309
        }
      },
      "source": [
        "train.head()"
      ],
      "execution_count": 458,
      "outputs": [
        {
          "output_type": "execute_result",
          "data": {
            "text/html": [
              "<div>\n",
              "<style scoped>\n",
              "    .dataframe tbody tr th:only-of-type {\n",
              "        vertical-align: middle;\n",
              "    }\n",
              "\n",
              "    .dataframe tbody tr th {\n",
              "        vertical-align: top;\n",
              "    }\n",
              "\n",
              "    .dataframe thead th {\n",
              "        text-align: right;\n",
              "    }\n",
              "</style>\n",
              "<table border=\"1\" class=\"dataframe\">\n",
              "  <thead>\n",
              "    <tr style=\"text-align: right;\">\n",
              "      <th></th>\n",
              "      <th>application_date</th>\n",
              "      <th>segment</th>\n",
              "      <th>branch_id</th>\n",
              "      <th>state</th>\n",
              "      <th>zone</th>\n",
              "      <th>case_count</th>\n",
              "      <th>year</th>\n",
              "      <th>month</th>\n",
              "      <th>dayofweek</th>\n",
              "      <th>day</th>\n",
              "      <th>quarter</th>\n",
              "      <th>is_month_start</th>\n",
              "      <th>is_month_end</th>\n",
              "      <th>is_quarter_start</th>\n",
              "      <th>is_quarter_end</th>\n",
              "    </tr>\n",
              "  </thead>\n",
              "  <tbody>\n",
              "    <tr>\n",
              "      <th>0</th>\n",
              "      <td>2017-04-01</td>\n",
              "      <td>1</td>\n",
              "      <td>1.0</td>\n",
              "      <td>WEST BENGAL</td>\n",
              "      <td>EAST</td>\n",
              "      <td>40.0</td>\n",
              "      <td>2017</td>\n",
              "      <td>4</td>\n",
              "      <td>5</td>\n",
              "      <td>1</td>\n",
              "      <td>2</td>\n",
              "      <td>True</td>\n",
              "      <td>False</td>\n",
              "      <td>True</td>\n",
              "      <td>False</td>\n",
              "    </tr>\n",
              "    <tr>\n",
              "      <th>1</th>\n",
              "      <td>2017-04-03</td>\n",
              "      <td>1</td>\n",
              "      <td>1.0</td>\n",
              "      <td>WEST BENGAL</td>\n",
              "      <td>EAST</td>\n",
              "      <td>5.0</td>\n",
              "      <td>2017</td>\n",
              "      <td>4</td>\n",
              "      <td>0</td>\n",
              "      <td>3</td>\n",
              "      <td>2</td>\n",
              "      <td>False</td>\n",
              "      <td>False</td>\n",
              "      <td>False</td>\n",
              "      <td>False</td>\n",
              "    </tr>\n",
              "    <tr>\n",
              "      <th>2</th>\n",
              "      <td>2017-04-04</td>\n",
              "      <td>1</td>\n",
              "      <td>1.0</td>\n",
              "      <td>WEST BENGAL</td>\n",
              "      <td>EAST</td>\n",
              "      <td>4.0</td>\n",
              "      <td>2017</td>\n",
              "      <td>4</td>\n",
              "      <td>1</td>\n",
              "      <td>4</td>\n",
              "      <td>2</td>\n",
              "      <td>False</td>\n",
              "      <td>False</td>\n",
              "      <td>False</td>\n",
              "      <td>False</td>\n",
              "    </tr>\n",
              "    <tr>\n",
              "      <th>3</th>\n",
              "      <td>2017-04-05</td>\n",
              "      <td>1</td>\n",
              "      <td>1.0</td>\n",
              "      <td>WEST BENGAL</td>\n",
              "      <td>EAST</td>\n",
              "      <td>113.0</td>\n",
              "      <td>2017</td>\n",
              "      <td>4</td>\n",
              "      <td>2</td>\n",
              "      <td>5</td>\n",
              "      <td>2</td>\n",
              "      <td>False</td>\n",
              "      <td>False</td>\n",
              "      <td>False</td>\n",
              "      <td>False</td>\n",
              "    </tr>\n",
              "    <tr>\n",
              "      <th>4</th>\n",
              "      <td>2017-04-07</td>\n",
              "      <td>1</td>\n",
              "      <td>1.0</td>\n",
              "      <td>WEST BENGAL</td>\n",
              "      <td>EAST</td>\n",
              "      <td>76.0</td>\n",
              "      <td>2017</td>\n",
              "      <td>4</td>\n",
              "      <td>4</td>\n",
              "      <td>7</td>\n",
              "      <td>2</td>\n",
              "      <td>False</td>\n",
              "      <td>False</td>\n",
              "      <td>False</td>\n",
              "      <td>False</td>\n",
              "    </tr>\n",
              "  </tbody>\n",
              "</table>\n",
              "</div>"
            ],
            "text/plain": [
              "  application_date  segment  ...  is_quarter_start is_quarter_end\n",
              "0       2017-04-01        1  ...              True          False\n",
              "1       2017-04-03        1  ...             False          False\n",
              "2       2017-04-04        1  ...             False          False\n",
              "3       2017-04-05        1  ...             False          False\n",
              "4       2017-04-07        1  ...             False          False\n",
              "\n",
              "[5 rows x 15 columns]"
            ]
          },
          "metadata": {
            "tags": []
          },
          "execution_count": 458
        }
      ]
    },
    {
      "cell_type": "code",
      "metadata": {
        "id": "FReZeAInAEA-",
        "colab_type": "code",
        "outputId": "700c7dd2-8c7a-4b9c-94c1-efa3e3b13e1f",
        "colab": {
          "base_uri": "https://localhost:8080/",
          "height": 433
        }
      },
      "source": [
        "train.set_index('application_date').resample('D')['case_count'].sum().plot(kind='line',figsize=(10,6),label='Total_case_Count_by_Day')\n",
        "plt.title(\"Total Case Count by Day\")\n",
        "plt.xlabel('Day')\n",
        "plt.ylabel(\"Sum of Case Counts\")\n",
        "plt.legend(loc='best')"
      ],
      "execution_count": 459,
      "outputs": [
        {
          "output_type": "execute_result",
          "data": {
            "text/plain": [
              "<matplotlib.legend.Legend at 0x7f99bb94dbe0>"
            ]
          },
          "metadata": {
            "tags": []
          },
          "execution_count": 459
        },
        {
          "output_type": "display_data",
          "data": {
            "image/png": "[encoded data removed]",
            "text/plain": [
              "<Figure size 720x432 with 1 Axes>"
            ]
          },
          "metadata": {
            "tags": []
          }
        }
      ]
    },
    {
      "cell_type": "code",
      "metadata": {
        "id": "08IhpVWVAEE2",
        "colab_type": "code",
        "outputId": "b0ee8e2e-8d5a-4efd-99ed-4c62508825ac",
        "colab": {
          "base_uri": "https://localhost:8080/",
          "height": 408
        }
      },
      "source": [
        "train.set_index('application_date')['case_count'].plot(kind='line',figsize=(10,6),label='Case_Counts_by_Day')\n",
        "plt.title(\"Case Count by Day\")\n",
        "plt.xlabel('Day')\n",
        "plt.ylabel(\"Case Counts\")\n",
        "plt.legend(loc='best')\n",
        "# We can see increasing and decreasing trends here"
      ],
      "execution_count": 460,
      "outputs": [
        {
          "output_type": "execute_result",
          "data": {
            "text/plain": [
              "<matplotlib.legend.Legend at 0x7f99bb7d8fd0>"
            ]
          },
          "metadata": {
            "tags": []
          },
          "execution_count": 460
        },
        {
          "output_type": "display_data",
          "data": {
            "image/png": "[encoded data removed]",
            "text/plain": [
              "<Figure size 720x432 with 1 Axes>"
            ]
          },
          "metadata": {
            "tags": []
          }
        }
      ]
    },
    {
      "cell_type": "code",
      "metadata": {
        "id": "_35Vf-I_AEHW",
        "colab_type": "code",
        "outputId": "ea0d3cf5-c860-4e04-9926-e0f7be38162e",
        "colab": {
          "base_uri": "https://localhost:8080/",
          "height": 299
        }
      },
      "source": [
        "train.groupby('month')['case_count'].sum().sort_values().plot(kind='bar')"
      ],
      "execution_count": 461,
      "outputs": [
        {
          "output_type": "execute_result",
          "data": {
            "text/plain": [
              "<matplotlib.axes._subplots.AxesSubplot at 0x7f99bb7f2828>"
            ]
          },
          "metadata": {
            "tags": []
          },
          "execution_count": 461
        },
        {
          "output_type": "display_data",
          "data": {
            "image/png": "[encoded data removed]",
            "text/plain": [
              "<Figure size 432x288 with 1 Axes>"
            ]
          },
          "metadata": {
            "tags": []
          }
        }
      ]
    },
    {
      "cell_type": "code",
      "metadata": {
        "id": "jVU21Rm6AD94",
        "colab_type": "code",
        "outputId": "18ee3dd9-76a1-44e9-c7e3-bcf02ec7a99c",
        "colab": {
          "base_uri": "https://localhost:8080/",
          "height": 297
        }
      },
      "source": [
        "train.groupby('dayofweek')['case_count'].agg(['count','min','max','sum','mean']).sort_values(by='count')\n"
      ],
      "execution_count": 462,
      "outputs": [
        {
          "output_type": "execute_result",
          "data": {
            "text/html": [
              "<div>\n",
              "<style scoped>\n",
              "    .dataframe tbody tr th:only-of-type {\n",
              "        vertical-align: middle;\n",
              "    }\n",
              "\n",
              "    .dataframe tbody tr th {\n",
              "        vertical-align: top;\n",
              "    }\n",
              "\n",
              "    .dataframe thead th {\n",
              "        text-align: right;\n",
              "    }\n",
              "</style>\n",
              "<table border=\"1\" class=\"dataframe\">\n",
              "  <thead>\n",
              "    <tr style=\"text-align: right;\">\n",
              "      <th></th>\n",
              "      <th>count</th>\n",
              "      <th>min</th>\n",
              "      <th>max</th>\n",
              "      <th>sum</th>\n",
              "      <th>mean</th>\n",
              "    </tr>\n",
              "    <tr>\n",
              "      <th>dayofweek</th>\n",
              "      <th></th>\n",
              "      <th></th>\n",
              "      <th></th>\n",
              "      <th></th>\n",
              "      <th></th>\n",
              "    </tr>\n",
              "  </thead>\n",
              "  <tbody>\n",
              "    <tr>\n",
              "      <th>6</th>\n",
              "      <td>10907</td>\n",
              "      <td>0.0</td>\n",
              "      <td>10250.0</td>\n",
              "      <td>1436647.0</td>\n",
              "      <td>131.717888</td>\n",
              "    </tr>\n",
              "    <tr>\n",
              "      <th>5</th>\n",
              "      <td>11156</td>\n",
              "      <td>0.0</td>\n",
              "      <td>13787.0</td>\n",
              "      <td>2135403.0</td>\n",
              "      <td>191.412962</td>\n",
              "    </tr>\n",
              "    <tr>\n",
              "      <th>2</th>\n",
              "      <td>11308</td>\n",
              "      <td>0.0</td>\n",
              "      <td>11160.0</td>\n",
              "      <td>2314316.0</td>\n",
              "      <td>204.661832</td>\n",
              "    </tr>\n",
              "    <tr>\n",
              "      <th>4</th>\n",
              "      <td>11308</td>\n",
              "      <td>0.0</td>\n",
              "      <td>13118.0</td>\n",
              "      <td>2262137.0</td>\n",
              "      <td>200.047489</td>\n",
              "    </tr>\n",
              "    <tr>\n",
              "      <th>0</th>\n",
              "      <td>11322</td>\n",
              "      <td>0.0</td>\n",
              "      <td>10805.0</td>\n",
              "      <td>2173422.0</td>\n",
              "      <td>191.964494</td>\n",
              "    </tr>\n",
              "    <tr>\n",
              "      <th>1</th>\n",
              "      <td>11322</td>\n",
              "      <td>0.0</td>\n",
              "      <td>11506.0</td>\n",
              "      <td>2280995.0</td>\n",
              "      <td>201.465730</td>\n",
              "    </tr>\n",
              "    <tr>\n",
              "      <th>3</th>\n",
              "      <td>11391</td>\n",
              "      <td>0.0</td>\n",
              "      <td>12908.0</td>\n",
              "      <td>2310191.0</td>\n",
              "      <td>202.808445</td>\n",
              "    </tr>\n",
              "  </tbody>\n",
              "</table>\n",
              "</div>"
            ],
            "text/plain": [
              "           count  min      max        sum        mean\n",
              "dayofweek                                            \n",
              "6          10907  0.0  10250.0  1436647.0  131.717888\n",
              "5          11156  0.0  13787.0  2135403.0  191.412962\n",
              "2          11308  0.0  11160.0  2314316.0  204.661832\n",
              "4          11308  0.0  13118.0  2262137.0  200.047489\n",
              "0          11322  0.0  10805.0  2173422.0  191.964494\n",
              "1          11322  0.0  11506.0  2280995.0  201.465730\n",
              "3          11391  0.0  12908.0  2310191.0  202.808445"
            ]
          },
          "metadata": {
            "tags": []
          },
          "execution_count": 462
        }
      ]
    },
    {
      "cell_type": "code",
      "metadata": {
        "id": "2bBIKXI-Bqhj",
        "colab_type": "code",
        "outputId": "4f186861-eea9-4fe3-c08b-bd966f048f31",
        "colab": {
          "base_uri": "https://localhost:8080/",
          "height": 390
        }
      },
      "source": [
        "train.groupby(['year','quarter'])['case_count'].agg(['count','min','max','sum','mean'])"
      ],
      "execution_count": 463,
      "outputs": [
        {
          "output_type": "execute_result",
          "data": {
            "text/html": [
              "<div>\n",
              "<style scoped>\n",
              "    .dataframe tbody tr th:only-of-type {\n",
              "        vertical-align: middle;\n",
              "    }\n",
              "\n",
              "    .dataframe tbody tr th {\n",
              "        vertical-align: top;\n",
              "    }\n",
              "\n",
              "    .dataframe thead th {\n",
              "        text-align: right;\n",
              "    }\n",
              "</style>\n",
              "<table border=\"1\" class=\"dataframe\">\n",
              "  <thead>\n",
              "    <tr style=\"text-align: right;\">\n",
              "      <th></th>\n",
              "      <th></th>\n",
              "      <th>count</th>\n",
              "      <th>min</th>\n",
              "      <th>max</th>\n",
              "      <th>sum</th>\n",
              "      <th>mean</th>\n",
              "    </tr>\n",
              "    <tr>\n",
              "      <th>year</th>\n",
              "      <th>quarter</th>\n",
              "      <th></th>\n",
              "      <th></th>\n",
              "      <th></th>\n",
              "      <th></th>\n",
              "      <th></th>\n",
              "    </tr>\n",
              "  </thead>\n",
              "  <tbody>\n",
              "    <tr>\n",
              "      <th rowspan=\"3\" valign=\"top\">2017</th>\n",
              "      <th>2</th>\n",
              "      <td>8246</td>\n",
              "      <td>0.0</td>\n",
              "      <td>5274.0</td>\n",
              "      <td>706232.0</td>\n",
              "      <td>85.645404</td>\n",
              "    </tr>\n",
              "    <tr>\n",
              "      <th>3</th>\n",
              "      <td>8177</td>\n",
              "      <td>0.0</td>\n",
              "      <td>8884.0</td>\n",
              "      <td>1197941.0</td>\n",
              "      <td>146.501284</td>\n",
              "    </tr>\n",
              "    <tr>\n",
              "      <th>4</th>\n",
              "      <td>8924</td>\n",
              "      <td>0.0</td>\n",
              "      <td>9963.0</td>\n",
              "      <td>1449814.0</td>\n",
              "      <td>162.462349</td>\n",
              "    </tr>\n",
              "    <tr>\n",
              "      <th rowspan=\"4\" valign=\"top\">2018</th>\n",
              "      <th>1</th>\n",
              "      <td>8398</td>\n",
              "      <td>0.0</td>\n",
              "      <td>11288.0</td>\n",
              "      <td>1728408.0</td>\n",
              "      <td>205.811860</td>\n",
              "    </tr>\n",
              "    <tr>\n",
              "      <th>2</th>\n",
              "      <td>8827</td>\n",
              "      <td>0.0</td>\n",
              "      <td>11241.0</td>\n",
              "      <td>1812629.0</td>\n",
              "      <td>205.350515</td>\n",
              "    </tr>\n",
              "    <tr>\n",
              "      <th>3</th>\n",
              "      <td>8924</td>\n",
              "      <td>0.0</td>\n",
              "      <td>12908.0</td>\n",
              "      <td>2027253.0</td>\n",
              "      <td>227.168646</td>\n",
              "    </tr>\n",
              "    <tr>\n",
              "      <th>4</th>\n",
              "      <td>8924</td>\n",
              "      <td>0.0</td>\n",
              "      <td>11536.0</td>\n",
              "      <td>1919816.0</td>\n",
              "      <td>215.129538</td>\n",
              "    </tr>\n",
              "    <tr>\n",
              "      <th rowspan=\"3\" valign=\"top\">2019</th>\n",
              "      <th>1</th>\n",
              "      <td>8730</td>\n",
              "      <td>0.0</td>\n",
              "      <td>13787.0</td>\n",
              "      <td>1944961.0</td>\n",
              "      <td>222.790493</td>\n",
              "    </tr>\n",
              "    <tr>\n",
              "      <th>2</th>\n",
              "      <td>8827</td>\n",
              "      <td>0.0</td>\n",
              "      <td>10629.0</td>\n",
              "      <td>1734401.0</td>\n",
              "      <td>196.488161</td>\n",
              "    </tr>\n",
              "    <tr>\n",
              "      <th>3</th>\n",
              "      <td>737</td>\n",
              "      <td>0.0</td>\n",
              "      <td>10099.0</td>\n",
              "      <td>391656.0</td>\n",
              "      <td>531.419267</td>\n",
              "    </tr>\n",
              "  </tbody>\n",
              "</table>\n",
              "</div>"
            ],
            "text/plain": [
              "              count  min      max        sum        mean\n",
              "year quarter                                            \n",
              "2017 2         8246  0.0   5274.0   706232.0   85.645404\n",
              "     3         8177  0.0   8884.0  1197941.0  146.501284\n",
              "     4         8924  0.0   9963.0  1449814.0  162.462349\n",
              "2018 1         8398  0.0  11288.0  1728408.0  205.811860\n",
              "     2         8827  0.0  11241.0  1812629.0  205.350515\n",
              "     3         8924  0.0  12908.0  2027253.0  227.168646\n",
              "     4         8924  0.0  11536.0  1919816.0  215.129538\n",
              "2019 1         8730  0.0  13787.0  1944961.0  222.790493\n",
              "     2         8827  0.0  10629.0  1734401.0  196.488161\n",
              "     3          737  0.0  10099.0   391656.0  531.419267"
            ]
          },
          "metadata": {
            "tags": []
          },
          "execution_count": 463
        }
      ]
    },
    {
      "cell_type": "code",
      "metadata": {
        "id": "zgFaFtwFBqnI",
        "colab_type": "code",
        "colab": {}
      },
      "source": [
        "test['year'] = test.application_date.dt.year\n",
        "test['month'] = test.application_date.dt.month\n",
        "test['dayofweek'] = test.application_date.dt.dayofweek\n",
        "test['day'] = test.application_date.dt.day\n",
        "test['quarter'] = test.application_date.dt.quarter\n",
        "test['is_month_start'] = test.application_date.dt.is_month_start\n",
        "test['is_month_end'] = test.application_date.dt.is_month_end\n",
        "test['is_quarter_start'] = test.application_date.dt.is_quarter_start\n",
        "test['is_quarter_end'] = test.application_date.dt.is_quarter_end\n"
      ],
      "execution_count": 0,
      "outputs": []
    },
    {
      "cell_type": "code",
      "metadata": {
        "id": "8Mbx365iBqqN",
        "colab_type": "code",
        "colab": {}
      },
      "source": [
        "def mean_absolute_percentage_error(y_true, y_pred): \n",
        "    y_true, y_pred = np.array(y_true), np.array(y_pred)\n",
        "    return np.mean(np.abs((y_pred - y_true) / y_pred)) * 100"
      ],
      "execution_count": 0,
      "outputs": []
    },
    {
      "cell_type": "code",
      "metadata": {
        "id": "SY8Wn3oiBqtA",
        "colab_type": "code",
        "colab": {}
      },
      "source": [
        "df_train.drop(['branch_id','state','zone'],axis=1,inplace=True)"
      ],
      "execution_count": 0,
      "outputs": []
    },
    {
      "cell_type": "code",
      "metadata": {
        "id": "qJuX2X8NBqwl",
        "colab_type": "code",
        "outputId": "49dd4f1a-a4cd-49a7-9006-ad98f075658b",
        "colab": {
          "base_uri": "https://localhost:8080/",
          "height": 204
        }
      },
      "source": [
        "df_train = df_train.groupby(['application_date','segment'],as_index=False)['case_count'].sum()\n",
        "df_train.head()"
      ],
      "execution_count": 467,
      "outputs": [
        {
          "output_type": "execute_result",
          "data": {
            "text/html": [
              "<div>\n",
              "<style scoped>\n",
              "    .dataframe tbody tr th:only-of-type {\n",
              "        vertical-align: middle;\n",
              "    }\n",
              "\n",
              "    .dataframe tbody tr th {\n",
              "        vertical-align: top;\n",
              "    }\n",
              "\n",
              "    .dataframe thead th {\n",
              "        text-align: right;\n",
              "    }\n",
              "</style>\n",
              "<table border=\"1\" class=\"dataframe\">\n",
              "  <thead>\n",
              "    <tr style=\"text-align: right;\">\n",
              "      <th></th>\n",
              "      <th>application_date</th>\n",
              "      <th>segment</th>\n",
              "      <th>case_count</th>\n",
              "    </tr>\n",
              "  </thead>\n",
              "  <tbody>\n",
              "    <tr>\n",
              "      <th>0</th>\n",
              "      <td>2017-04-01</td>\n",
              "      <td>1</td>\n",
              "      <td>299.0</td>\n",
              "    </tr>\n",
              "    <tr>\n",
              "      <th>1</th>\n",
              "      <td>2017-04-01</td>\n",
              "      <td>2</td>\n",
              "      <td>897.0</td>\n",
              "    </tr>\n",
              "    <tr>\n",
              "      <th>2</th>\n",
              "      <td>2017-04-02</td>\n",
              "      <td>2</td>\n",
              "      <td>605.0</td>\n",
              "    </tr>\n",
              "    <tr>\n",
              "      <th>3</th>\n",
              "      <td>2017-04-03</td>\n",
              "      <td>1</td>\n",
              "      <td>42.0</td>\n",
              "    </tr>\n",
              "    <tr>\n",
              "      <th>4</th>\n",
              "      <td>2017-04-03</td>\n",
              "      <td>2</td>\n",
              "      <td>2016.0</td>\n",
              "    </tr>\n",
              "  </tbody>\n",
              "</table>\n",
              "</div>"
            ],
            "text/plain": [
              "  application_date  segment  case_count\n",
              "0       2017-04-01        1       299.0\n",
              "1       2017-04-01        2       897.0\n",
              "2       2017-04-02        2       605.0\n",
              "3       2017-04-03        1        42.0\n",
              "4       2017-04-03        2      2016.0"
            ]
          },
          "metadata": {
            "tags": []
          },
          "execution_count": 467
        }
      ]
    },
    {
      "cell_type": "code",
      "metadata": {
        "id": "ltsX4Wk7Bqkr",
        "colab_type": "code",
        "colab": {}
      },
      "source": [
        "holidays = ['2017-04-05','2017-04-09','2017-04-14','2017-05-01',\n",
        "       '2017-05-10', '2017-06-25', '2017-06-26', '2017-08-07',\n",
        "       '2017-08-14', '2017-08-15', '2017-08-25', '2017-09-02',\n",
        "       '2017-09-04', '2017-09-30', '2017-10-01', '2017-10-02',\n",
        "       '2017-10-19', '2017-12-01', '2017-12-25', '2018-01-01', \n",
        "       '2018-01-14', '2018-01-22', '2018-01-26',\n",
        "       '2018-01-31', '2018-02-10', '2018-02-14', '2018-02-19',\n",
        "       '2018-03-01', '2018-03-02', '2018-03-18', '2018-03-25',\n",
        "       '2018-03-29', '2018-03-30', '2018-04-01', '2018-04-14',\n",
        "       '2018-04-15', '2018-04-30', '2018-05-09', '2018-06-15',\n",
        "       '2018-06-16', '2018-07-14', '2018-08-15', '2018-08-17',\n",
        "       '2018-08-22', '2018-08-25', '2018-08-26', '2018-09-03',\n",
        "       '2018-09-13', '2018-09-21', '2018-10-02', '2018-10-16',\n",
        "       '2018-10-17', '2018-10-18', '2018-10-19', '2018-10-24',\n",
        "       '2018-10-27', '2018-11-06', '2018-11-07', '2018-11-08',\n",
        "       '2018-11-09', '2018-11-13', '2018-11-21', '2018-11-23',\n",
        "       '2018-11-24', '2018-12-24', '2018-12-25', '2019-01-01',\n",
        "       '2019-01-13', '2019-01-14', '2019-01-15', '2019-01-26',\n",
        "       '2019-02-10', '2019-02-19', '2019-03-01', '2019-03-04',\n",
        "       '2019-03-20', '2019-03-21', '2019-04-06', '2019-04-13',\n",
        "       '2019-04-14', '2019-04-15', '2019-04-17', '2019-04-19',\n",
        "       '2019-04-21', '2019-05-09', '2019-05-18', '2019-05-31',\n",
        "       '2019-06-05', '2019-07-04', '2019-08-12', '2019-08-15',\n",
        "       '2019-08-17', '2019-08-24', '2019-09-02', '2019-09-10',\n",
        "       '2019-09-11', '2019-10-02', '2019-10-05', '2019-10-06',\n",
        "       '2019-10-07', '2019-10-08', '2019-10-13', '2019-10-17',\n",
        "       '2019-10-27', '2019-10-28', '2019-10-29', '2019-11-02',\n",
        "       '2019-11-10', '2019-11-12', '2019-11-24', '2019-12-24',\n",
        "       '2019-12-25']\n",
        "df_train['Holiday'] = (df_train.application_date.dt.date.astype(\"str\").isin(holidays)).astype(int)\n",
        "df_test['Holiday'] = (df_test.application_date.dt.date.astype(\"str\").isin(holidays)).astype(int)"
      ],
      "execution_count": 0,
      "outputs": []
    },
    {
      "cell_type": "code",
      "metadata": {
        "id": "mzxchN6qBqeu",
        "colab_type": "code",
        "outputId": "a4025c33-61c9-48ad-b202-0c7ee04c5ec9",
        "colab": {
          "base_uri": "https://localhost:8080/",
          "height": 979
        }
      },
      "source": [
        "df_train.head(30)"
      ],
      "execution_count": 469,
      "outputs": [
        {
          "output_type": "execute_result",
          "data": {
            "text/html": [
              "<div>\n",
              "<style scoped>\n",
              "    .dataframe tbody tr th:only-of-type {\n",
              "        vertical-align: middle;\n",
              "    }\n",
              "\n",
              "    .dataframe tbody tr th {\n",
              "        vertical-align: top;\n",
              "    }\n",
              "\n",
              "    .dataframe thead th {\n",
              "        text-align: right;\n",
              "    }\n",
              "</style>\n",
              "<table border=\"1\" class=\"dataframe\">\n",
              "  <thead>\n",
              "    <tr style=\"text-align: right;\">\n",
              "      <th></th>\n",
              "      <th>application_date</th>\n",
              "      <th>segment</th>\n",
              "      <th>case_count</th>\n",
              "      <th>Holiday</th>\n",
              "    </tr>\n",
              "  </thead>\n",
              "  <tbody>\n",
              "    <tr>\n",
              "      <th>0</th>\n",
              "      <td>2017-04-01</td>\n",
              "      <td>1</td>\n",
              "      <td>299.0</td>\n",
              "      <td>0</td>\n",
              "    </tr>\n",
              "    <tr>\n",
              "      <th>1</th>\n",
              "      <td>2017-04-01</td>\n",
              "      <td>2</td>\n",
              "      <td>897.0</td>\n",
              "      <td>0</td>\n",
              "    </tr>\n",
              "    <tr>\n",
              "      <th>2</th>\n",
              "      <td>2017-04-02</td>\n",
              "      <td>2</td>\n",
              "      <td>605.0</td>\n",
              "      <td>0</td>\n",
              "    </tr>\n",
              "    <tr>\n",
              "      <th>3</th>\n",
              "      <td>2017-04-03</td>\n",
              "      <td>1</td>\n",
              "      <td>42.0</td>\n",
              "      <td>0</td>\n",
              "    </tr>\n",
              "    <tr>\n",
              "      <th>4</th>\n",
              "      <td>2017-04-03</td>\n",
              "      <td>2</td>\n",
              "      <td>2016.0</td>\n",
              "      <td>0</td>\n",
              "    </tr>\n",
              "    <tr>\n",
              "      <th>5</th>\n",
              "      <td>2017-04-04</td>\n",
              "      <td>1</td>\n",
              "      <td>23.0</td>\n",
              "      <td>0</td>\n",
              "    </tr>\n",
              "    <tr>\n",
              "      <th>6</th>\n",
              "      <td>2017-04-04</td>\n",
              "      <td>2</td>\n",
              "      <td>2245.0</td>\n",
              "      <td>0</td>\n",
              "    </tr>\n",
              "    <tr>\n",
              "      <th>7</th>\n",
              "      <td>2017-04-05</td>\n",
              "      <td>1</td>\n",
              "      <td>1530.0</td>\n",
              "      <td>1</td>\n",
              "    </tr>\n",
              "    <tr>\n",
              "      <th>8</th>\n",
              "      <td>2017-04-05</td>\n",
              "      <td>2</td>\n",
              "      <td>2415.0</td>\n",
              "      <td>1</td>\n",
              "    </tr>\n",
              "    <tr>\n",
              "      <th>9</th>\n",
              "      <td>2017-04-06</td>\n",
              "      <td>2</td>\n",
              "      <td>2379.0</td>\n",
              "      <td>0</td>\n",
              "    </tr>\n",
              "    <tr>\n",
              "      <th>10</th>\n",
              "      <td>2017-04-07</td>\n",
              "      <td>1</td>\n",
              "      <td>1341.0</td>\n",
              "      <td>0</td>\n",
              "    </tr>\n",
              "    <tr>\n",
              "      <th>11</th>\n",
              "      <td>2017-04-07</td>\n",
              "      <td>2</td>\n",
              "      <td>2249.0</td>\n",
              "      <td>0</td>\n",
              "    </tr>\n",
              "    <tr>\n",
              "      <th>12</th>\n",
              "      <td>2017-04-08</td>\n",
              "      <td>2</td>\n",
              "      <td>2297.0</td>\n",
              "      <td>0</td>\n",
              "    </tr>\n",
              "    <tr>\n",
              "      <th>13</th>\n",
              "      <td>2017-04-09</td>\n",
              "      <td>2</td>\n",
              "      <td>1435.0</td>\n",
              "      <td>1</td>\n",
              "    </tr>\n",
              "    <tr>\n",
              "      <th>14</th>\n",
              "      <td>2017-04-10</td>\n",
              "      <td>2</td>\n",
              "      <td>3166.0</td>\n",
              "      <td>0</td>\n",
              "    </tr>\n",
              "    <tr>\n",
              "      <th>15</th>\n",
              "      <td>2017-04-11</td>\n",
              "      <td>2</td>\n",
              "      <td>5649.0</td>\n",
              "      <td>0</td>\n",
              "    </tr>\n",
              "    <tr>\n",
              "      <th>16</th>\n",
              "      <td>2017-04-12</td>\n",
              "      <td>1</td>\n",
              "      <td>1468.0</td>\n",
              "      <td>0</td>\n",
              "    </tr>\n",
              "    <tr>\n",
              "      <th>17</th>\n",
              "      <td>2017-04-12</td>\n",
              "      <td>2</td>\n",
              "      <td>8781.0</td>\n",
              "      <td>0</td>\n",
              "    </tr>\n",
              "    <tr>\n",
              "      <th>18</th>\n",
              "      <td>2017-04-13</td>\n",
              "      <td>1</td>\n",
              "      <td>1340.0</td>\n",
              "      <td>0</td>\n",
              "    </tr>\n",
              "    <tr>\n",
              "      <th>19</th>\n",
              "      <td>2017-04-13</td>\n",
              "      <td>2</td>\n",
              "      <td>10351.0</td>\n",
              "      <td>0</td>\n",
              "    </tr>\n",
              "    <tr>\n",
              "      <th>20</th>\n",
              "      <td>2017-04-14</td>\n",
              "      <td>1</td>\n",
              "      <td>1330.0</td>\n",
              "      <td>1</td>\n",
              "    </tr>\n",
              "    <tr>\n",
              "      <th>21</th>\n",
              "      <td>2017-04-14</td>\n",
              "      <td>2</td>\n",
              "      <td>8289.0</td>\n",
              "      <td>1</td>\n",
              "    </tr>\n",
              "    <tr>\n",
              "      <th>22</th>\n",
              "      <td>2017-04-15</td>\n",
              "      <td>1</td>\n",
              "      <td>981.0</td>\n",
              "      <td>0</td>\n",
              "    </tr>\n",
              "    <tr>\n",
              "      <th>23</th>\n",
              "      <td>2017-04-15</td>\n",
              "      <td>2</td>\n",
              "      <td>8799.0</td>\n",
              "      <td>0</td>\n",
              "    </tr>\n",
              "    <tr>\n",
              "      <th>24</th>\n",
              "      <td>2017-04-16</td>\n",
              "      <td>1</td>\n",
              "      <td>409.0</td>\n",
              "      <td>0</td>\n",
              "    </tr>\n",
              "    <tr>\n",
              "      <th>25</th>\n",
              "      <td>2017-04-16</td>\n",
              "      <td>2</td>\n",
              "      <td>6745.0</td>\n",
              "      <td>0</td>\n",
              "    </tr>\n",
              "    <tr>\n",
              "      <th>26</th>\n",
              "      <td>2017-04-17</td>\n",
              "      <td>1</td>\n",
              "      <td>1515.0</td>\n",
              "      <td>0</td>\n",
              "    </tr>\n",
              "    <tr>\n",
              "      <th>27</th>\n",
              "      <td>2017-04-17</td>\n",
              "      <td>2</td>\n",
              "      <td>9597.0</td>\n",
              "      <td>0</td>\n",
              "    </tr>\n",
              "    <tr>\n",
              "      <th>28</th>\n",
              "      <td>2017-04-18</td>\n",
              "      <td>1</td>\n",
              "      <td>1442.0</td>\n",
              "      <td>0</td>\n",
              "    </tr>\n",
              "    <tr>\n",
              "      <th>29</th>\n",
              "      <td>2017-04-18</td>\n",
              "      <td>2</td>\n",
              "      <td>11351.0</td>\n",
              "      <td>0</td>\n",
              "    </tr>\n",
              "  </tbody>\n",
              "</table>\n",
              "</div>"
            ],
            "text/plain": [
              "   application_date  segment  case_count  Holiday\n",
              "0        2017-04-01        1       299.0        0\n",
              "1        2017-04-01        2       897.0        0\n",
              "2        2017-04-02        2       605.0        0\n",
              "3        2017-04-03        1        42.0        0\n",
              "4        2017-04-03        2      2016.0        0\n",
              "5        2017-04-04        1        23.0        0\n",
              "6        2017-04-04        2      2245.0        0\n",
              "7        2017-04-05        1      1530.0        1\n",
              "8        2017-04-05        2      2415.0        1\n",
              "9        2017-04-06        2      2379.0        0\n",
              "10       2017-04-07        1      1341.0        0\n",
              "11       2017-04-07        2      2249.0        0\n",
              "12       2017-04-08        2      2297.0        0\n",
              "13       2017-04-09        2      1435.0        1\n",
              "14       2017-04-10        2      3166.0        0\n",
              "15       2017-04-11        2      5649.0        0\n",
              "16       2017-04-12        1      1468.0        0\n",
              "17       2017-04-12        2      8781.0        0\n",
              "18       2017-04-13        1      1340.0        0\n",
              "19       2017-04-13        2     10351.0        0\n",
              "20       2017-04-14        1      1330.0        1\n",
              "21       2017-04-14        2      8289.0        1\n",
              "22       2017-04-15        1       981.0        0\n",
              "23       2017-04-15        2      8799.0        0\n",
              "24       2017-04-16        1       409.0        0\n",
              "25       2017-04-16        2      6745.0        0\n",
              "26       2017-04-17        1      1515.0        0\n",
              "27       2017-04-17        2      9597.0        0\n",
              "28       2017-04-18        1      1442.0        0\n",
              "29       2017-04-18        2     11351.0        0"
            ]
          },
          "metadata": {
            "tags": []
          },
          "execution_count": 469
        }
      ]
    },
    {
      "cell_type": "code",
      "metadata": {
        "id": "54ndCtIFCIIz",
        "colab_type": "code",
        "outputId": "66a83e47-81a6-42c9-95c9-2ecbf3b5290f",
        "colab": {
          "base_uri": "https://localhost:8080/",
          "height": 204
        }
      },
      "source": [
        "df_test.head()"
      ],
      "execution_count": 470,
      "outputs": [
        {
          "output_type": "execute_result",
          "data": {
            "text/html": [
              "<div>\n",
              "<style scoped>\n",
              "    .dataframe tbody tr th:only-of-type {\n",
              "        vertical-align: middle;\n",
              "    }\n",
              "\n",
              "    .dataframe tbody tr th {\n",
              "        vertical-align: top;\n",
              "    }\n",
              "\n",
              "    .dataframe thead th {\n",
              "        text-align: right;\n",
              "    }\n",
              "</style>\n",
              "<table border=\"1\" class=\"dataframe\">\n",
              "  <thead>\n",
              "    <tr style=\"text-align: right;\">\n",
              "      <th></th>\n",
              "      <th>application_date</th>\n",
              "      <th>segment</th>\n",
              "      <th>Holiday</th>\n",
              "    </tr>\n",
              "  </thead>\n",
              "  <tbody>\n",
              "    <tr>\n",
              "      <th>0</th>\n",
              "      <td>2019-07-06</td>\n",
              "      <td>1</td>\n",
              "      <td>0</td>\n",
              "    </tr>\n",
              "    <tr>\n",
              "      <th>1</th>\n",
              "      <td>2019-07-07</td>\n",
              "      <td>1</td>\n",
              "      <td>0</td>\n",
              "    </tr>\n",
              "    <tr>\n",
              "      <th>2</th>\n",
              "      <td>2019-07-08</td>\n",
              "      <td>1</td>\n",
              "      <td>0</td>\n",
              "    </tr>\n",
              "    <tr>\n",
              "      <th>3</th>\n",
              "      <td>2019-07-09</td>\n",
              "      <td>1</td>\n",
              "      <td>0</td>\n",
              "    </tr>\n",
              "    <tr>\n",
              "      <th>4</th>\n",
              "      <td>2019-07-10</td>\n",
              "      <td>1</td>\n",
              "      <td>0</td>\n",
              "    </tr>\n",
              "  </tbody>\n",
              "</table>\n",
              "</div>"
            ],
            "text/plain": [
              "  application_date  segment  Holiday\n",
              "0       2019-07-06        1        0\n",
              "1       2019-07-07        1        0\n",
              "2       2019-07-08        1        0\n",
              "3       2019-07-09        1        0\n",
              "4       2019-07-10        1        0"
            ]
          },
          "metadata": {
            "tags": []
          },
          "execution_count": 470
        }
      ]
    },
    {
      "cell_type": "code",
      "metadata": {
        "id": "tk7go-iiCIMi",
        "colab_type": "code",
        "colab": {}
      },
      "source": [
        "df = df_train[df_train['segment'] == 1]"
      ],
      "execution_count": 0,
      "outputs": []
    },
    {
      "cell_type": "code",
      "metadata": {
        "id": "RMuNXnAYMARs",
        "colab_type": "code",
        "outputId": "6a999bb1-ec39-4c28-e367-f8470d30d222",
        "colab": {
          "base_uri": "https://localhost:8080/",
          "height": 204
        }
      },
      "source": [
        "df.head()"
      ],
      "execution_count": 472,
      "outputs": [
        {
          "output_type": "execute_result",
          "data": {
            "text/html": [
              "<div>\n",
              "<style scoped>\n",
              "    .dataframe tbody tr th:only-of-type {\n",
              "        vertical-align: middle;\n",
              "    }\n",
              "\n",
              "    .dataframe tbody tr th {\n",
              "        vertical-align: top;\n",
              "    }\n",
              "\n",
              "    .dataframe thead th {\n",
              "        text-align: right;\n",
              "    }\n",
              "</style>\n",
              "<table border=\"1\" class=\"dataframe\">\n",
              "  <thead>\n",
              "    <tr style=\"text-align: right;\">\n",
              "      <th></th>\n",
              "      <th>application_date</th>\n",
              "      <th>segment</th>\n",
              "      <th>case_count</th>\n",
              "      <th>Holiday</th>\n",
              "    </tr>\n",
              "  </thead>\n",
              "  <tbody>\n",
              "    <tr>\n",
              "      <th>0</th>\n",
              "      <td>2017-04-01</td>\n",
              "      <td>1</td>\n",
              "      <td>299.0</td>\n",
              "      <td>0</td>\n",
              "    </tr>\n",
              "    <tr>\n",
              "      <th>3</th>\n",
              "      <td>2017-04-03</td>\n",
              "      <td>1</td>\n",
              "      <td>42.0</td>\n",
              "      <td>0</td>\n",
              "    </tr>\n",
              "    <tr>\n",
              "      <th>5</th>\n",
              "      <td>2017-04-04</td>\n",
              "      <td>1</td>\n",
              "      <td>23.0</td>\n",
              "      <td>0</td>\n",
              "    </tr>\n",
              "    <tr>\n",
              "      <th>7</th>\n",
              "      <td>2017-04-05</td>\n",
              "      <td>1</td>\n",
              "      <td>1530.0</td>\n",
              "      <td>1</td>\n",
              "    </tr>\n",
              "    <tr>\n",
              "      <th>10</th>\n",
              "      <td>2017-04-07</td>\n",
              "      <td>1</td>\n",
              "      <td>1341.0</td>\n",
              "      <td>0</td>\n",
              "    </tr>\n",
              "  </tbody>\n",
              "</table>\n",
              "</div>"
            ],
            "text/plain": [
              "   application_date  segment  case_count  Holiday\n",
              "0        2017-04-01        1       299.0        0\n",
              "3        2017-04-03        1        42.0        0\n",
              "5        2017-04-04        1        23.0        0\n",
              "7        2017-04-05        1      1530.0        1\n",
              "10       2017-04-07        1      1341.0        0"
            ]
          },
          "metadata": {
            "tags": []
          },
          "execution_count": 472
        }
      ]
    },
    {
      "cell_type": "code",
      "metadata": {
        "id": "aos9M0VXn_s4",
        "colab_type": "code",
        "outputId": "c9c234a7-fe5f-4561-a6fc-143e9fa2eff2",
        "colab": {
          "base_uri": "https://localhost:8080/",
          "height": 297
        }
      },
      "source": [
        "import seaborn as sns\n",
        "sns.boxplot(x=df['case_count'])"
      ],
      "execution_count": 473,
      "outputs": [
        {
          "output_type": "execute_result",
          "data": {
            "text/plain": [
              "<matplotlib.axes._subplots.AxesSubplot at 0x7f99bb3cd780>"
            ]
          },
          "metadata": {
            "tags": []
          },
          "execution_count": 473
        },
        {
          "output_type": "display_data",
          "data": {
            "image/png": "[encoded data removed]",
            "text/plain": [
              "<Figure size 432x288 with 1 Axes>"
            ]
          },
          "metadata": {
            "tags": []
          }
        }
      ]
    },
    {
      "cell_type": "code",
      "metadata": {
        "id": "6Q10ZXRpoEv4",
        "colab_type": "code",
        "colab": {}
      },
      "source": [
        "df=df[df['case_count'] < 4000]"
      ],
      "execution_count": 0,
      "outputs": []
    },
    {
      "cell_type": "code",
      "metadata": {
        "id": "M-XN3EmkjByT",
        "colab_type": "code",
        "colab": {}
      },
      "source": [
        ""
      ],
      "execution_count": 0,
      "outputs": []
    },
    {
      "cell_type": "code",
      "metadata": {
        "id": "s3K9RJcpCIPJ",
        "colab_type": "code",
        "colab": {}
      },
      "source": [
        "def weekend_indicator(x):\n",
        "    if (x>4 and x<=6):\n",
        "        return True\n",
        "    else:\n",
        "        return False"
      ],
      "execution_count": 0,
      "outputs": []
    },
    {
      "cell_type": "code",
      "metadata": {
        "id": "4iGpmiYkCIT3",
        "colab_type": "code",
        "colab": {}
      },
      "source": [
        "df['year'] = df.application_date.dt.year\n",
        "df['month'] = df.application_date.dt.month\n",
        "df['dayofweek'] = df.application_date.dt.dayofweek\n",
        "df['day'] = df.application_date.dt.day\n",
        "df['quarter'] = df.application_date.dt.quarter\n",
        "df['is_month_start'] = df.application_date.dt.is_month_start\n",
        "df['is_month_end'] = df.application_date.dt.is_month_end\n",
        "df['is_quarter_start'] = df.application_date.dt.is_quarter_start\n",
        "df['is_quarter_end'] = df.application_date.dt.is_quarter_end\n",
        "df['weekend'] = df['dayofweek'].apply(weekend_indicator)"
      ],
      "execution_count": 0,
      "outputs": []
    },
    {
      "cell_type": "code",
      "metadata": {
        "id": "G7Sl6QzcNLye",
        "colab_type": "code",
        "outputId": "6e836899-68a8-4257-f16d-777d2f7c9ff3",
        "colab": {
          "base_uri": "https://localhost:8080/",
          "height": 299
        }
      },
      "source": [
        "df.groupby('month')['case_count'].sum().plot(kind='bar')"
      ],
      "execution_count": 477,
      "outputs": [
        {
          "output_type": "execute_result",
          "data": {
            "text/plain": [
              "<matplotlib.axes._subplots.AxesSubplot at 0x7f99bb338a58>"
            ]
          },
          "metadata": {
            "tags": []
          },
          "execution_count": 477
        },
        {
          "output_type": "display_data",
          "data": {
            "image/png": "[encoded data removed]",
            "text/plain": [
              "<Figure size 432x288 with 1 Axes>"
            ]
          },
          "metadata": {
            "tags": []
          }
        }
      ]
    },
    {
      "cell_type": "code",
      "metadata": {
        "id": "bPJ1xPRHCXew",
        "colab_type": "code",
        "colab": {}
      },
      "source": [
        "cols = ['year','month','dayofweek','day','quarter']\n",
        "for col in cols:\n",
        "    df_train[col] = df[col].astype('category')"
      ],
      "execution_count": 0,
      "outputs": []
    },
    {
      "cell_type": "code",
      "metadata": {
        "id": "tu6BqD3GCXkt",
        "colab_type": "code",
        "colab": {}
      },
      "source": [
        "y = df['case_count']\n",
        "X = df[[col for col in df.columns if col not in ['application_date','segment','case_count']]]"
      ],
      "execution_count": 0,
      "outputs": []
    },
    {
      "cell_type": "code",
      "metadata": {
        "id": "EoEN1Ga9CXp-",
        "colab_type": "code",
        "colab": {}
      },
      "source": [
        "X_Train, X_Test, y_Train, y_Test = train_test_split(X,y,test_size=0.25,shuffle=False,random_state=42)"
      ],
      "execution_count": 0,
      "outputs": []
    },
    {
      "cell_type": "code",
      "metadata": {
        "id": "et6Ow7p_CXoX",
        "colab_type": "code",
        "outputId": "9b5beaea-d155-4179-e97e-4a360fd2425c",
        "colab": {
          "base_uri": "https://localhost:8080/",
          "height": 493
        }
      },
      "source": [
        "model = RandomForestRegressor(n_jobs=1, random_state=42)\n",
        "params = {\"n_estimators\":list(range(10,500,45)),\n",
        "          \"max_features\":[0.5,'sqrt','log2','auto'],\n",
        "          \"max_depth\":[3,4,5,6,7],\n",
        "          \"min_samples_leaf\":[2,3,5,7,10],\n",
        "          \"min_samples_split\":[2, 5, 10]          \n",
        "          }\n",
        "search = RandomizedSearchCV(estimator=model,param_distributions=params,cv=7,random_state=42)\n",
        "search.fit(X,y)"
      ],
      "execution_count": 481,
      "outputs": [
        {
          "output_type": "execute_result",
          "data": {
            "text/plain": [
              "RandomizedSearchCV(cv=7, error_score=nan,\n",
              "                   estimator=RandomForestRegressor(bootstrap=True,\n",
              "                                                   ccp_alpha=0.0,\n",
              "                                                   criterion='mse',\n",
              "                                                   max_depth=None,\n",
              "                                                   max_features='auto',\n",
              "                                                   max_leaf_nodes=None,\n",
              "                                                   max_samples=None,\n",
              "                                                   min_impurity_decrease=0.0,\n",
              "                                                   min_impurity_split=None,\n",
              "                                                   min_samples_leaf=1,\n",
              "                                                   min_samples_split=2,\n",
              "                                                   min_weight_fraction_leaf=0.0,\n",
              "                                                   n_estimators=100, n_jobs=1,\n",
              "                                                   oob_score=False,\n",
              "                                                   r...\n",
              "                                                   warm_start=False),\n",
              "                   iid='deprecated', n_iter=10, n_jobs=None,\n",
              "                   param_distributions={'max_depth': [3, 4, 5, 6, 7],\n",
              "                                        'max_features': [0.5, 'sqrt', 'log2',\n",
              "                                                         'auto'],\n",
              "                                        'min_samples_leaf': [2, 3, 5, 7, 10],\n",
              "                                        'min_samples_split': [2, 5, 10],\n",
              "                                        'n_estimators': [10, 55, 100, 145, 190,\n",
              "                                                         235, 280, 325, 370,\n",
              "                                                         415, 460]},\n",
              "                   pre_dispatch='2*n_jobs', random_state=42, refit=True,\n",
              "                   return_train_score=False, scoring=None, verbose=0)"
            ]
          },
          "metadata": {
            "tags": []
          },
          "execution_count": 481
        }
      ]
    },
    {
      "cell_type": "code",
      "metadata": {
        "id": "kQhnZwK_rTEW",
        "colab_type": "code",
        "colab": {
          "base_uri": "https://localhost:8080/",
          "height": 51
        },
        "outputId": "e646241b-0b4f-4869-da38-2fb42c8b4031"
      },
      "source": [
        "y_pred = search.best_estimator_.predict(X_Test)\n",
        "mape_segment_1 = mean_absolute_percentage_error(y_Test,y_pred)\n",
        "print (mape_segment_1)\n",
        "print(search.best_params_)\n"
      ],
      "execution_count": 482,
      "outputs": [
        {
          "output_type": "stream",
          "text": [
            "12.48480152869947\n",
            "{'n_estimators': 280, 'min_samples_split': 2, 'min_samples_leaf': 3, 'max_features': 'auto', 'max_depth': 7}\n"
          ],
          "name": "stdout"
        }
      ]
    },
    {
      "cell_type": "code",
      "metadata": {
        "id": "sbcAruBMCvVf",
        "colab_type": "code",
        "colab": {}
      },
      "source": [
        "df_test['year'] = df_test.application_date.dt.year\n",
        "df_test['month'] = df_test.application_date.dt.month\n",
        "df_test['dayofweek'] = df_test.application_date.dt.dayofweek\n",
        "df_test['day'] = df_test.application_date.dt.day\n",
        "df_test['quarter'] = df_test.application_date.dt.quarter\n",
        "df_test['is_month_start'] = df_test.application_date.dt.is_month_start\n",
        "df_test['is_month_end'] = df_test.application_date.dt.is_month_end\n",
        "df_test['is_quarter_start'] = df_test.application_date.dt.is_quarter_start\n",
        "df_test['is_quarter_end'] = df_test.application_date.dt.is_quarter_end\n",
        "df_test['weekend'] = df_test['dayofweek'].apply(weekend_indicator)\n",
        "\n",
        "\n",
        "for col in cols:\n",
        "    df_train[col] = df[col].astype('category')\n",
        "\n",
        "df_test_segment1 = df_test[df_test['segment'] == 1]\n",
        "df_test_segment1.drop(['application_date','segment'],axis=1,inplace=True)"
      ],
      "execution_count": 0,
      "outputs": []
    },
    {
      "cell_type": "code",
      "metadata": {
        "id": "OtSqwSOzCvaY",
        "colab_type": "code",
        "colab": {}
      },
      "source": [
        "Submission.loc[Submission['segment'] == 1,'case_count'] = search.best_estimator_.predict(df_test_segment1)"
      ],
      "execution_count": 0,
      "outputs": []
    },
    {
      "cell_type": "code",
      "metadata": {
        "id": "nc0Ie6rKCvgF",
        "colab_type": "code",
        "colab": {}
      },
      "source": [
        "df = df_train[df_train['segment'] == 2]"
      ],
      "execution_count": 0,
      "outputs": []
    },
    {
      "cell_type": "code",
      "metadata": {
        "id": "Iu9VNP94-qLh",
        "colab_type": "code",
        "outputId": "7b5bbee9-721b-476d-be47-f6451fd89e25",
        "colab": {
          "base_uri": "https://localhost:8080/",
          "height": 297
        }
      },
      "source": [
        "import seaborn as sns\n",
        "sns.boxplot(x=df['case_count'])"
      ],
      "execution_count": 486,
      "outputs": [
        {
          "output_type": "execute_result",
          "data": {
            "text/plain": [
              "<matplotlib.axes._subplots.AxesSubplot at 0x7f99bb2eb2b0>"
            ]
          },
          "metadata": {
            "tags": []
          },
          "execution_count": 486
        },
        {
          "output_type": "display_data",
          "data": {
            "image/png": "[encoded data removed]",
            "text/plain": [
              "<Figure size 432x288 with 1 Axes>"
            ]
          },
          "metadata": {
            "tags": []
          }
        }
      ]
    },
    {
      "cell_type": "code",
      "metadata": {
        "id": "QG18LsMLCvjU",
        "colab_type": "code",
        "colab": {}
      },
      "source": [
        "df['year'] = df.application_date.dt.year\n",
        "df['month'] = df.application_date.dt.month\n",
        "df['dayofweek'] = df.application_date.dt.dayofweek\n",
        "df['day'] = df.application_date.dt.day\n",
        "df['quarter'] = df.application_date.dt.quarter\n",
        "df['is_month_start'] = df.application_date.dt.is_month_start\n",
        "df['is_month_end'] = df.application_date.dt.is_month_end\n",
        "df['is_quarter_start'] = df.application_date.dt.is_quarter_start\n",
        "df['is_quarter_end'] = df.application_date.dt.is_quarter_end\n",
        "df['weekend'] = df['dayofweek'].apply(weekend_indicator)\n"
      ],
      "execution_count": 0,
      "outputs": []
    },
    {
      "cell_type": "code",
      "metadata": {
        "id": "uMWeYSGrN68S",
        "colab_type": "code",
        "outputId": "3ffc0f55-92a0-4e94-8163-84e593121556",
        "colab": {
          "base_uri": "https://localhost:8080/",
          "height": 300
        }
      },
      "source": [
        "df.groupby('month')['case_count'].sum().sort_values().plot(kind='bar')"
      ],
      "execution_count": 488,
      "outputs": [
        {
          "output_type": "execute_result",
          "data": {
            "text/plain": [
              "<matplotlib.axes._subplots.AxesSubplot at 0x7f99bb1f9470>"
            ]
          },
          "metadata": {
            "tags": []
          },
          "execution_count": 488
        },
        {
          "output_type": "display_data",
          "data": {
            "image/png": "[encoded data removed]",
            "text/plain": [
              "<Figure size 432x288 with 1 Axes>"
            ]
          },
          "metadata": {
            "tags": []
          }
        }
      ]
    },
    {
      "cell_type": "code",
      "metadata": {
        "id": "e-12Yds4Cveb",
        "colab_type": "code",
        "colab": {}
      },
      "source": [
        "cols = ['year','month','dayofweek','day','quarter']\n",
        "for col in cols:\n",
        "    df_train[col] = df[col].astype('category')"
      ],
      "execution_count": 0,
      "outputs": []
    },
    {
      "cell_type": "code",
      "metadata": {
        "id": "titaRVeECvX-",
        "colab_type": "code",
        "colab": {}
      },
      "source": [
        "y = df['case_count']\n",
        "X = df[[col for col in df.columns if col not in ['application_date','segment','case_count']]]"
      ],
      "execution_count": 0,
      "outputs": []
    },
    {
      "cell_type": "code",
      "metadata": {
        "id": "rbDug0W0DICx",
        "colab_type": "code",
        "colab": {}
      },
      "source": [
        "X_Train, X_Test, y_Train, y_Test = train_test_split(X,y,test_size=0.25,shuffle=False,random_state=42)"
      ],
      "execution_count": 0,
      "outputs": []
    },
    {
      "cell_type": "code",
      "metadata": {
        "id": "F95aXq1edR2v",
        "colab_type": "code",
        "outputId": "4464bc48-100f-4523-e04f-4e878389b398",
        "colab": {
          "base_uri": "https://localhost:8080/",
          "height": 224
        }
      },
      "source": [
        "X_Train.head()"
      ],
      "execution_count": 492,
      "outputs": [
        {
          "output_type": "execute_result",
          "data": {
            "text/html": [
              "<div>\n",
              "<style scoped>\n",
              "    .dataframe tbody tr th:only-of-type {\n",
              "        vertical-align: middle;\n",
              "    }\n",
              "\n",
              "    .dataframe tbody tr th {\n",
              "        vertical-align: top;\n",
              "    }\n",
              "\n",
              "    .dataframe thead th {\n",
              "        text-align: right;\n",
              "    }\n",
              "</style>\n",
              "<table border=\"1\" class=\"dataframe\">\n",
              "  <thead>\n",
              "    <tr style=\"text-align: right;\">\n",
              "      <th></th>\n",
              "      <th>Holiday</th>\n",
              "      <th>year</th>\n",
              "      <th>month</th>\n",
              "      <th>dayofweek</th>\n",
              "      <th>day</th>\n",
              "      <th>quarter</th>\n",
              "      <th>is_month_start</th>\n",
              "      <th>is_month_end</th>\n",
              "      <th>is_quarter_start</th>\n",
              "      <th>is_quarter_end</th>\n",
              "      <th>weekend</th>\n",
              "    </tr>\n",
              "  </thead>\n",
              "  <tbody>\n",
              "    <tr>\n",
              "      <th>1</th>\n",
              "      <td>0</td>\n",
              "      <td>2017</td>\n",
              "      <td>4</td>\n",
              "      <td>5</td>\n",
              "      <td>1</td>\n",
              "      <td>2</td>\n",
              "      <td>True</td>\n",
              "      <td>False</td>\n",
              "      <td>True</td>\n",
              "      <td>False</td>\n",
              "      <td>True</td>\n",
              "    </tr>\n",
              "    <tr>\n",
              "      <th>2</th>\n",
              "      <td>0</td>\n",
              "      <td>2017</td>\n",
              "      <td>4</td>\n",
              "      <td>6</td>\n",
              "      <td>2</td>\n",
              "      <td>2</td>\n",
              "      <td>False</td>\n",
              "      <td>False</td>\n",
              "      <td>False</td>\n",
              "      <td>False</td>\n",
              "      <td>True</td>\n",
              "    </tr>\n",
              "    <tr>\n",
              "      <th>4</th>\n",
              "      <td>0</td>\n",
              "      <td>2017</td>\n",
              "      <td>4</td>\n",
              "      <td>0</td>\n",
              "      <td>3</td>\n",
              "      <td>2</td>\n",
              "      <td>False</td>\n",
              "      <td>False</td>\n",
              "      <td>False</td>\n",
              "      <td>False</td>\n",
              "      <td>False</td>\n",
              "    </tr>\n",
              "    <tr>\n",
              "      <th>6</th>\n",
              "      <td>0</td>\n",
              "      <td>2017</td>\n",
              "      <td>4</td>\n",
              "      <td>1</td>\n",
              "      <td>4</td>\n",
              "      <td>2</td>\n",
              "      <td>False</td>\n",
              "      <td>False</td>\n",
              "      <td>False</td>\n",
              "      <td>False</td>\n",
              "      <td>False</td>\n",
              "    </tr>\n",
              "    <tr>\n",
              "      <th>8</th>\n",
              "      <td>1</td>\n",
              "      <td>2017</td>\n",
              "      <td>4</td>\n",
              "      <td>2</td>\n",
              "      <td>5</td>\n",
              "      <td>2</td>\n",
              "      <td>False</td>\n",
              "      <td>False</td>\n",
              "      <td>False</td>\n",
              "      <td>False</td>\n",
              "      <td>False</td>\n",
              "    </tr>\n",
              "  </tbody>\n",
              "</table>\n",
              "</div>"
            ],
            "text/plain": [
              "   Holiday  year  month  ...  is_quarter_start  is_quarter_end  weekend\n",
              "1        0  2017      4  ...              True           False     True\n",
              "2        0  2017      4  ...             False           False     True\n",
              "4        0  2017      4  ...             False           False    False\n",
              "6        0  2017      4  ...             False           False    False\n",
              "8        1  2017      4  ...             False           False    False\n",
              "\n",
              "[5 rows x 11 columns]"
            ]
          },
          "metadata": {
            "tags": []
          },
          "execution_count": 492
        }
      ]
    },
    {
      "cell_type": "code",
      "metadata": {
        "id": "EqQNO0QII9kK",
        "colab_type": "code",
        "colab": {}
      },
      "source": [
        "model = RandomForestRegressor(n_jobs=1, random_state=42)\n",
        "params = {\"n_estimators\":list(range(10,500,30)),\n",
        "          \"max_features\":[0.3,'sqrt','log2','auto'],\n",
        "          \"max_depth\":[3,4,5,6,7],\n",
        "          \"min_samples_leaf\":[2,3,5,7,10]                 \n",
        "          }\n",
        "search = RandomizedSearchCV(estimator=model,param_distributions=params,cv=7,random_state=42)\n"
      ],
      "execution_count": 0,
      "outputs": []
    },
    {
      "cell_type": "code",
      "metadata": {
        "id": "bXuA3DrmDIGS",
        "colab_type": "code",
        "outputId": "58337088-fdee-461e-ca5e-a62dbbe22067",
        "colab": {
          "base_uri": "https://localhost:8080/",
          "height": 493
        }
      },
      "source": [
        "search.fit(X,y)"
      ],
      "execution_count": 494,
      "outputs": [
        {
          "output_type": "execute_result",
          "data": {
            "text/plain": [
              "RandomizedSearchCV(cv=7, error_score=nan,\n",
              "                   estimator=RandomForestRegressor(bootstrap=True,\n",
              "                                                   ccp_alpha=0.0,\n",
              "                                                   criterion='mse',\n",
              "                                                   max_depth=None,\n",
              "                                                   max_features='auto',\n",
              "                                                   max_leaf_nodes=None,\n",
              "                                                   max_samples=None,\n",
              "                                                   min_impurity_decrease=0.0,\n",
              "                                                   min_impurity_split=None,\n",
              "                                                   min_samples_leaf=1,\n",
              "                                                   min_samples_split=2,\n",
              "                                                   min_weight_fraction_leaf=0.0,\n",
              "                                                   n_estimators=100, n_jobs=1,\n",
              "                                                   oob_score=False,\n",
              "                                                   r...\n",
              "                                                   warm_start=False),\n",
              "                   iid='deprecated', n_iter=10, n_jobs=None,\n",
              "                   param_distributions={'max_depth': [3, 4, 5, 6, 7],\n",
              "                                        'max_features': [0.3, 'sqrt', 'log2',\n",
              "                                                         'auto'],\n",
              "                                        'min_samples_leaf': [2, 3, 5, 7, 10],\n",
              "                                        'n_estimators': [10, 40, 70, 100, 130,\n",
              "                                                         160, 190, 220, 250,\n",
              "                                                         280, 310, 340, 370,\n",
              "                                                         400, 430, 460, 490]},\n",
              "                   pre_dispatch='2*n_jobs', random_state=42, refit=True,\n",
              "                   return_train_score=False, scoring=None, verbose=0)"
            ]
          },
          "metadata": {
            "tags": []
          },
          "execution_count": 494
        }
      ]
    },
    {
      "cell_type": "code",
      "metadata": {
        "id": "dr-j0Fg1DIMB",
        "colab_type": "code",
        "outputId": "d4d063ac-187b-4429-f000-80953b63e60d",
        "colab": {
          "base_uri": "https://localhost:8080/",
          "height": 51
        }
      },
      "source": [
        "y_pred = search.best_estimator_.predict(X_Test)\n",
        "mape_segment_2 = mean_absolute_percentage_error(y_Test,y_pred)\n",
        "print (mape_segment_2)\n",
        "print (search.best_params_)"
      ],
      "execution_count": 495,
      "outputs": [
        {
          "output_type": "stream",
          "text": [
            "13.656768175016298\n",
            "{'n_estimators': 190, 'min_samples_leaf': 3, 'max_features': 'auto', 'max_depth': 7}\n"
          ],
          "name": "stdout"
        }
      ]
    },
    {
      "cell_type": "code",
      "metadata": {
        "id": "zOeH0ITGDIPU",
        "colab_type": "code",
        "outputId": "a138a7f6-5553-495b-add6-27ae2398262b",
        "colab": {
          "base_uri": "https://localhost:8080/",
          "height": 221
        }
      },
      "source": [
        "ser = pd.Series(search.best_estimator_.feature_importances_,X.columns).sort_values()\n",
        "ser"
      ],
      "execution_count": 496,
      "outputs": [
        {
          "output_type": "execute_result",
          "data": {
            "text/plain": [
              "is_quarter_end      5.640554e-07\n",
              "is_quarter_start    1.747138e-04\n",
              "is_month_start      3.109101e-04\n",
              "weekend             8.995960e-04\n",
              "is_month_end        3.270531e-03\n",
              "Holiday             3.894072e-03\n",
              "quarter             1.335588e-02\n",
              "month               5.073706e-02\n",
              "dayofweek           5.088593e-02\n",
              "year                1.574624e-01\n",
              "day                 7.190084e-01\n",
              "dtype: float64"
            ]
          },
          "metadata": {
            "tags": []
          },
          "execution_count": 496
        }
      ]
    },
    {
      "cell_type": "code",
      "metadata": {
        "id": "8u4ePsyBDIKQ",
        "colab_type": "code",
        "outputId": "b168e173-d5a6-4a8e-d5ff-773d0525f3a7",
        "colab": {
          "base_uri": "https://localhost:8080/",
          "height": 34
        }
      },
      "source": [
        "final_mape = 0.5*mape_segment_1+0.5*mape_segment_2\n",
        "print (final_mape)"
      ],
      "execution_count": 497,
      "outputs": [
        {
          "output_type": "stream",
          "text": [
            "13.070784851857884\n"
          ],
          "name": "stdout"
        }
      ]
    },
    {
      "cell_type": "code",
      "metadata": {
        "id": "E3GKYLQnDeyO",
        "colab_type": "code",
        "colab": {}
      },
      "source": [
        "df_test_segment2 = df_test[df_test['segment'] == 2]\n",
        "df_test_segment2.drop(['application_date','segment'],axis=1,inplace=True)"
      ],
      "execution_count": 0,
      "outputs": []
    },
    {
      "cell_type": "code",
      "metadata": {
        "id": "WR_cqortDe9N",
        "colab_type": "code",
        "colab": {}
      },
      "source": [
        "Submission.loc[Submission['segment'] == 2,'case_count'] = search.best_estimator_.predict(df_test_segment2)"
      ],
      "execution_count": 0,
      "outputs": []
    },
    {
      "cell_type": "code",
      "metadata": {
        "id": "kzCOxd1cDe6c",
        "colab_type": "code",
        "colab": {}
      },
      "source": [
        "Submission['case_count'] = Submission['case_count'].astype(int)"
      ],
      "execution_count": 0,
      "outputs": []
    },
    {
      "cell_type": "code",
      "metadata": {
        "id": "j410ofx0De3s",
        "colab_type": "code",
        "colab": {}
      },
      "source": [
        "Submission.to_csv(\"Submission11.csv\",index=None)"
      ],
      "execution_count": 0,
      "outputs": []
    },
    {
      "cell_type": "code",
      "metadata": {
        "id": "eixE7fmUDe1o",
        "colab_type": "code",
        "colab": {}
      },
      "source": [
        ""
      ],
      "execution_count": 0,
      "outputs": []
    },
    {
      "cell_type": "code",
      "metadata": {
        "id": "fhDF5_ZLDevI",
        "colab_type": "code",
        "colab": {}
      },
      "source": [
        ""
      ],
      "execution_count": 0,
      "outputs": []
    }
  ]
}